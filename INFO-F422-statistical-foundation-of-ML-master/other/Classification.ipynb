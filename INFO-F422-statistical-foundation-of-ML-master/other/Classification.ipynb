{
 "cells": [
  {
   "cell_type": "markdown",
   "metadata": {
    "colab_type": "text",
    "id": "hCXw9vS30g_X"
   },
   "source": [
    "# Projet 1 : Classification\n",
    "\n"
   ]
  },
  {
   "cell_type": "markdown",
   "metadata": {
    "colab_type": "text",
    "id": "EtBS8ZySo7rD"
   },
   "source": [
    "# Resources\n",
    "\n",
    "Termes Définitions et référence théorique:\n",
    "\n",
    "[lien](./Resources.ipynb)\n",
    "\n",
    "\n",
    "Dataset \n",
    "https://www.kaggle.com/bulentsiyah/dna-classification-code/comments#731589\n",
    "\n",
    "https://www.kaggle.com/joshmcadams/oranges-vs-grapefruit\n",
    "\n"
   ]
  },
  {
   "cell_type": "markdown",
   "metadata": {
    "colab_type": "text",
    "id": "VQIkHXp1kAA2"
   },
   "source": [
    "# I. ML-algorithms\n",
    "\n",
    "Here we discuss the different algorithms\n",
    "\n",
    "```\n",
    "You can use any ML-algorithm. It is not necessary that the algorithm was\n",
    "discussed during the classes or covered in the course material. Also you do not\n",
    "have to implement the algorithms yourself. You can use a library like scikit-learn.\n",
    "In any case it is import that you give a brief explanation of the ML-algorithm\n",
    "and the most important tunable parameters. In Section 4 example explanations\n",
    "of the perceptron learning algorithm and the support vector machine are given.\n",
    "```\n",
    "\n",
    "Dans l'études des modèles, Il faut mentionner deux choses:\n",
    "1. le fonctionnement\n",
    "2. Les paramètre à modifier\n"
   ]
  },
  {
   "cell_type": "markdown",
   "metadata": {
    "colab_type": "text",
    "id": "1FfYAAyVubVs"
   },
   "source": [
    "## SVM\n",
    "so\n",
    "Support vector machine is a classic model for classification.\n",
    "We are going to study three variant of the SVM. \n",
    "\n",
    "## SVM Linear\n",
    "\n",
    "Before starting more advanced models we must first study the linear model. Because if a model cannot do better than the linear model, it is not intersting.\n",
    "\n",
    "\n"
   ]
  },
  {
   "cell_type": "markdown",
   "metadata": {
    "colab_type": "text",
    "id": "tcY6Ydvojzq-"
   },
   "source": [
    "# Synthetic dataset\n",
    "\n",
    "Here we generate and talk about the dataset in use.\n",
    "\n",
    "```\n",
    "> synthetic dataset: You can use the python module scipy.stats for that\n",
    "purpose. It is preferable but not necessary that you generate the synthetic\n",
    "data sets yourselves. The most important thing is that you can control the\n",
    "data generation process. If you generate the data yourself you have that\n",
    "control.\n",
    "\n",
    "```"
   ]
  },
  {
   "cell_type": "markdown",
   "metadata": {
    "colab_type": "text",
    "id": "fXe0E3LRJYeC"
   },
   "source": [
    "# Algorithm Comparaison"
   ]
  },
  {
   "cell_type": "markdown",
   "metadata": {
    "colab_type": "text",
    "id": "b7Qi7fHtkasd"
   },
   "source": [
    "## In-sample error and out of sample error\n",
    "\n",
    "> How do the ML-algorithms compare in terms of in-sample error and out of\n",
    "sample error on the data sets used"
   ]
  },
  {
   "cell_type": "markdown",
   "metadata": {
    "colab_type": "text",
    "id": "n4wAt_vDkhqz"
   },
   "source": [
    "## Other aspect of algorithms\n",
    " \n",
    "> What is the impact of mislabeled training examples/outliers3 on the performance?\n",
    "\n",
    "> What is the impact of class unbalances on the performance? In many\n",
    "cases we have about the same number of examples of each class. In some\n",
    "applications this is not the case, e.g. credit card fraud detection, intrusion\n",
    "detection, etc.\n",
    "\n",
    "> What happens when classes overlap? How does that affect the performance? Which transformations to the feature space work best?\n",
    "\n",
    "> In case of SVM, what is the impact of class overlap, class unbalance and\n",
    "mislabeled data on the number and location of support vectors?\n",
    "\n"
   ]
  },
  {
   "cell_type": "code",
   "execution_count": 0,
   "metadata": {
    "colab": {},
    "colab_type": "code",
    "id": "p-HDEoBSj_lD"
   },
   "outputs": [],
   "source": []
  },
  {
   "cell_type": "markdown",
   "metadata": {
    "colab_type": "text",
    "id": "C--uZndhiCyg"
   },
   "source": [
    "# II. Real life project\n",
    "\n",
    "In this section we show the application of algorithms on a real dataset.\n",
    "\n",
    "\n",
    "\n"
   ]
  },
  {
   "cell_type": "markdown",
   "metadata": {
    "colab_type": "text",
    "id": "m2WBeXqIJ3YR"
   },
   "source": [
    "# Oranges vs. Grapefruit\n",
    "The task of separating oranges and grapefruit is fairly obvious to a human, but even with manual observation there is still a bit of error. "
   ]
  },
  {
   "cell_type": "markdown",
   "metadata": {
    "colab_type": "text",
    "id": "BlcwUfarJ64y"
   },
   "source": [
    "# Dataset\n",
    "\n",
    "This dataset takes the color, weight, and diameter of an \"average\" orange and grapefruit and generates a larger dataset containing a wide variety of values and are \"oranges\" and \"grapefruit\".\n",
    "\n",
    "The dataset is mostly fictional. I'd love to collect real data, but for now measuring starting fruit and creating artificial samples from there seems adequate.\n",
    " "
   ]
  },
  {
   "cell_type": "code",
   "execution_count": 0,
   "metadata": {
    "colab": {},
    "colab_type": "code",
    "id": "uMQ4UVsEMCe9"
   },
   "outputs": [],
   "source": [
    "from mpl_toolkits.mplot3d import Axes3D\n",
    "from sklearn.preprocessing import StandardScaler\n",
    "import matplotlib.pyplot as plt # plotting\n",
    "import numpy as np # linear algebra\n",
    "import os # accessing directory structure\n",
    "import pandas as pd # data processing, CSV file I/O (e.g. pd.read_csv)"
   ]
  },
  {
   "cell_type": "code",
   "execution_count": 0,
   "metadata": {
    "colab": {},
    "colab_type": "code",
    "id": "1AoxVfvENKKq"
   },
   "outputs": [],
   "source": [
    " \n",
    "#!kaggle datasets download -d joshmcadams/oranges-vs-grapefruit"
   ]
  },
  {
   "cell_type": "code",
   "execution_count": 0,
   "metadata": {
    "colab": {
     "base_uri": "https://localhost:8080/",
     "height": 34
    },
    "colab_type": "code",
    "id": "QhuaS-D5MMvJ",
    "outputId": "7958ffa6-e142-4677-a646-2ecd9eed4a4f"
   },
   "outputs": [
    {
     "name": "stdout",
     "output_type": "stream",
     "text": [
      "There are 1000 rows and 6 columns\n"
     ]
    }
   ],
   "source": [
    "nRowsRead = None # specify 'None' if want to read whole file\n",
    "# citrus.csv may have more rows in reality, but we are only loading/previewing the first 1000 rows\n",
    "df_raw = pd.read_csv('/content/drive/My Drive/Colab Notebooks/citrus.csv', delimiter=',', nrows = nRowsRead)\n",
    "df_raw.dataframeName = 'citrus.csv'\n",
    "nRow, nCol = df.shape\n",
    "print(f'There are {nRow} rows and {nCol} columns')"
   ]
  },
  {
   "cell_type": "code",
   "execution_count": 0,
   "metadata": {
    "colab": {
     "base_uri": "https://localhost:8080/",
     "height": 204
    },
    "colab_type": "code",
    "id": "hikusk91MPhb",
    "outputId": "6ee3bc6e-41d4-46be-c81f-6f17349a5299"
   },
   "outputs": [
    {
     "data": {
      "text/html": [
       "<div>\n",
       "<style scoped>\n",
       "    .dataframe tbody tr th:only-of-type {\n",
       "        vertical-align: middle;\n",
       "    }\n",
       "\n",
       "    .dataframe tbody tr th {\n",
       "        vertical-align: top;\n",
       "    }\n",
       "\n",
       "    .dataframe thead th {\n",
       "        text-align: right;\n",
       "    }\n",
       "</style>\n",
       "<table border=\"1\" class=\"dataframe\">\n",
       "  <thead>\n",
       "    <tr style=\"text-align: right;\">\n",
       "      <th></th>\n",
       "      <th>name</th>\n",
       "      <th>diameter</th>\n",
       "      <th>weight</th>\n",
       "      <th>red</th>\n",
       "      <th>green</th>\n",
       "      <th>blue</th>\n",
       "    </tr>\n",
       "  </thead>\n",
       "  <tbody>\n",
       "    <tr>\n",
       "      <th>0</th>\n",
       "      <td>orange</td>\n",
       "      <td>2.96</td>\n",
       "      <td>86.76</td>\n",
       "      <td>172</td>\n",
       "      <td>85</td>\n",
       "      <td>2</td>\n",
       "    </tr>\n",
       "    <tr>\n",
       "      <th>1</th>\n",
       "      <td>orange</td>\n",
       "      <td>3.91</td>\n",
       "      <td>88.05</td>\n",
       "      <td>166</td>\n",
       "      <td>78</td>\n",
       "      <td>3</td>\n",
       "    </tr>\n",
       "    <tr>\n",
       "      <th>2</th>\n",
       "      <td>orange</td>\n",
       "      <td>4.42</td>\n",
       "      <td>95.17</td>\n",
       "      <td>156</td>\n",
       "      <td>81</td>\n",
       "      <td>2</td>\n",
       "    </tr>\n",
       "    <tr>\n",
       "      <th>3</th>\n",
       "      <td>orange</td>\n",
       "      <td>4.47</td>\n",
       "      <td>95.60</td>\n",
       "      <td>163</td>\n",
       "      <td>81</td>\n",
       "      <td>4</td>\n",
       "    </tr>\n",
       "    <tr>\n",
       "      <th>4</th>\n",
       "      <td>orange</td>\n",
       "      <td>4.48</td>\n",
       "      <td>95.76</td>\n",
       "      <td>161</td>\n",
       "      <td>72</td>\n",
       "      <td>9</td>\n",
       "    </tr>\n",
       "  </tbody>\n",
       "</table>\n",
       "</div>"
      ],
      "text/plain": [
       "     name  diameter  weight  red  green  blue\n",
       "0  orange      2.96   86.76  172     85     2\n",
       "1  orange      3.91   88.05  166     78     3\n",
       "2  orange      4.42   95.17  156     81     2\n",
       "3  orange      4.47   95.60  163     81     4\n",
       "4  orange      4.48   95.76  161     72     9"
      ]
     },
     "execution_count": 38,
     "metadata": {
      "tags": []
     },
     "output_type": "execute_result"
    }
   ],
   "source": [
    "df_raw.head(5)\n",
    " "
   ]
  },
  {
   "cell_type": "markdown",
   "metadata": {
    "colab_type": "text",
    "id": "ynj8lQNARTZA"
   },
   "source": [
    "# Correlation Matrix\n",
    "\n",
    "In the next cell, we run a couple commands, wich compute and display the correlation coefficient between the columns of our dataset.\n"
   ]
  },
  {
   "cell_type": "code",
   "execution_count": 0,
   "metadata": {
    "colab": {
     "base_uri": "https://localhost:8080/",
     "height": 269
    },
    "colab_type": "code",
    "id": "ZFLURhNKPGLc",
    "outputId": "da80bee8-861a-4f39-8d6b-c21da6cfc855"
   },
   "outputs": [
    {
     "data": {
      "image/png": "[encoded data removed]",
      "text/plain": [
       "<Figure size 432x288 with 2 Axes>"
      ]
     },
     "metadata": {
      "needs_background": "light",
      "tags": []
     },
     "output_type": "display_data"
    }
   ],
   "source": [
    " \n",
    "\n",
    "import matplotlib.pyplot as plt\n",
    "import seaborn as sn\n",
    "corrMatrix = df_raw.corr()\n",
    "sn.heatmap(corrMatrix, annot=True)\n",
    "plt.show()"
   ]
  },
  {
   "cell_type": "markdown",
   "metadata": {
    "colab_type": "text",
    "id": "tFF14dVDSRJ-"
   },
   "source": [
    "As we can see their is a high (1) correlation between the weight and the diameter of the observed fruits. The green color and the diameter are the least correlated value. These are the ones we choose further down the analysis."
   ]
  },
  {
   "cell_type": "markdown",
   "metadata": {
    "colab_type": "text",
    "id": "nDkp3ZCkSXZW"
   },
   "source": [
    "# Dataset Plot\n",
    "\n",
    "Let us diplay the point distribution.\n"
   ]
  },
  {
   "cell_type": "code",
   "execution_count": 0,
   "metadata": {
    "colab": {
     "base_uri": "https://localhost:8080/",
     "height": 283
    },
    "colab_type": "code",
    "id": "ROWdv9odO53k",
    "outputId": "44efbac0-2d8d-4c04-e543-58e44af6b9e3"
   },
   "outputs": [
    {
     "data": {
      "image/png": "[encoded data removed]",
      "text/plain": [
       "<Figure size 432x288 with 1 Axes>"
      ]
     },
     "metadata": {
      "needs_background": "light",
      "tags": []
     },
     "output_type": "display_data"
    }
   ],
   "source": [
    "ls = [\"grapefruit\", \"orange\"]\n",
    "x1 = \"diameter\"\n",
    "x2 = \"green\"\n",
    "for it, elem in enumerate(ls):\n",
    "  df1 = df_raw.loc[df['name'] == elem]\n",
    "  if it == 0:\n",
    "    ax = df1.plot.scatter(x=x1, y=x2, color='DarkBlue', label=elem);\n",
    "  else:\n",
    "    df2.plot.scatter(x=x1, y=x2, color='DarkGreen', label=elem, ax=ax);\n",
    "  "
   ]
  },
  {
   "cell_type": "markdown",
   "metadata": {
    "colab_type": "text",
    "id": "S1iJhOxYjfVM"
   },
   "source": []
  },
  {
   "cell_type": "markdown",
   "metadata": {
    "colab_type": "text",
    "id": "8g20bG8GjfPl"
   },
   "source": []
  },
  {
   "cell_type": "markdown",
   "metadata": {
    "colab_type": "text",
    "id": "pekxjEddjfKo"
   },
   "source": []
  },
  {
   "cell_type": "markdown",
   "metadata": {
    "colab_type": "text",
    "id": "VsEJg1BzjfF_"
   },
   "source": []
  },
  {
   "cell_type": "markdown",
   "metadata": {
    "colab_type": "text",
    "id": "D-QU8ReyjfBa"
   },
   "source": []
  },
  {
   "cell_type": "markdown",
   "metadata": {
    "colab_type": "text",
    "id": "vZx7cyyPje8w"
   },
   "source": []
  },
  {
   "cell_type": "markdown",
   "metadata": {
    "colab_type": "text",
    "id": "VUa9IzdBje42"
   },
   "source": []
  },
  {
   "cell_type": "markdown",
   "metadata": {
    "colab_type": "text",
    "id": "nV7a_ULeje1F"
   },
   "source": []
  },
  {
   "cell_type": "markdown",
   "metadata": {
    "colab_type": "text",
    "id": "tkSQOygcjew6"
   },
   "source": []
  },
  {
   "cell_type": "markdown",
   "metadata": {
    "colab_type": "text",
    "id": "KPQlRkdtjesa"
   },
   "source": []
  },
  {
   "cell_type": "code",
   "execution_count": 0,
   "metadata": {
    "colab": {},
    "colab_type": "code",
    "id": "wXn5mcuGjeY9"
   },
   "outputs": [],
   "source": []
  },
  {
   "cell_type": "markdown",
   "metadata": {
    "colab_type": "text",
    "id": "yJdwW4sCx_YA"
   },
   "source": [
    "# Real life project\n",
    "\n",
    "In this project we are going to analyse sequence of DNA and make a binary classification of promoter gene sequences based on their class (+ or -)."
   ]
  },
  {
   "cell_type": "markdown",
   "metadata": {
    "colab_type": "text",
    "id": "wIo6chkM18K4"
   },
   "source": [
    "# Importing Data"
   ]
  },
  {
   "cell_type": "code",
   "execution_count": 0,
   "metadata": {
    "colab": {},
    "colab_type": "code",
    "id": "hjlABUXeacwN"
   },
   "outputs": [],
   "source": [
    "import sys\n",
    "import numpy\n",
    "import sklearn\n",
    "import pandas\n",
    "import numpy as np\n",
    "import pandas as pd"
   ]
  },
  {
   "cell_type": "code",
   "execution_count": 0,
   "metadata": {
    "colab": {},
    "colab_type": "code",
    "id": "CSNeLyRGaaky"
   },
   "outputs": [],
   "source": [
    "\n",
    "\n",
    "f = open(\"/content/drive/My Drive/Colab Notebooks/promoters.data\")\n",
    "lines = f.readlines()  # skip the header\n",
    "data = []\n",
    "for line in lines:\n",
    "  data.append(line.split(\",\"))\n"
   ]
  },
  {
   "cell_type": "markdown",
   "metadata": {
    "colab_type": "text",
    "id": "-Y4PW1efWIV5"
   },
   "source": [
    "\n",
    "There is two class in the dataset:\n",
    "\n",
    "the + and the -\n",
    "\n",
    "\n"
   ]
  },
  {
   "cell_type": "code",
   "execution_count": 0,
   "metadata": {
    "colab": {
     "base_uri": "https://localhost:8080/",
     "height": 34
    },
    "colab_type": "code",
    "id": "Eu6d5vNWafn8",
    "outputId": "f7023136-700b-4083-d276-a56c4aa8c213"
   },
   "outputs": [
    {
     "name": "stdout",
     "output_type": "stream",
     "text": [
      "['+', 'S10', '\\t\\ttactagcaatacgcttgcgttcggtggttaagtatgtataatgcgcgggcttgtcgt\\n']\n"
     ]
    }
   ],
   "source": [
    "print(data[0])"
   ]
  },
  {
   "cell_type": "markdown",
   "metadata": {
    "colab_type": "text",
    "id": "GSwKs-XEanaM"
   },
   "source": [
    "# Preprocessing\n",
    "\n",
    "Les données à dispositions, sont sous format String. On veut les convertir sous format numérique. \n",
    "\n",
    "## 1. Suite de nucléotide\n",
    "\n",
    "Tout d'abord on énumère la séquence d'ADN sous une suite de nucléotide qui la compose.\n",
    "\n",
    "Le code ci dessous divise les séquence par nucléotide"
   ]
  },
  {
   "cell_type": "code",
   "execution_count": 0,
   "metadata": {
    "colab": {},
    "colab_type": "code",
    "id": "S2cOrrEbar6q"
   },
   "outputs": [],
   "source": [
    "# generate list of DNA sequences\n",
    "sequencesList = list(elem[2] for elem in data)\n",
    " \n",
    "nucleotidesList = []\n",
    "\n",
    "classList = list(1 if elem[0] == \"+\" else 0  for elem in data)\n",
    "\n",
    "# loop through sequences and split into individual nucleotides\n",
    "for i, seq in enumerate(sequencesList):\n",
    "    \n",
    "    # split into nucleotides, remove tab characters\n",
    "    nucleotides = list(seq)\n",
    "    nucleotides = [x for x in nucleotides if x != '\\t' and x != \"\\n\"]\n",
    "    nucleotidesList.append(nucleotides)\n",
    " \n",
    " "
   ]
  },
  {
   "cell_type": "code",
   "execution_count": 0,
   "metadata": {
    "colab": {
     "base_uri": "https://localhost:8080/",
     "height": 71
    },
    "colab_type": "code",
    "id": "5RXE-QYCa6xG",
    "outputId": "815d12e0-0465-4eb3-d404-946a69ffe9da"
   },
   "outputs": [
    {
     "name": "stdout",
     "output_type": "stream",
     "text": [
      "nucleotides: ['g', 'a', 'g', 'a', 'g', 'c', 'a', 't', 'g', 't', 'c', 'a', 'g', 'c', 'c', 't', 'c', 'g', 'a', 'c', 'a', 'a', 'c', 't', 't', 'g', 'c', 'a', 't', 'a', 'a', 'a', 't', 'g', 'c', 't', 't', 't', 'c', 't', 't', 'g', 't', 'a', 'g', 'a', 'c', 'g', 't', 'g', 'c', 'c', 'c', 't', 'a', 'c', 'g']\n",
      "class: 0\n"
     ]
    }
   ],
   "source": [
    "print(\"nucleotides:\", nucleotidesList[100])\n",
    "print(\"class:\", classList[100])"
   ]
  },
  {
   "cell_type": "markdown",
   "metadata": {
    "colab_type": "text",
    "id": "lwu2Upryejwl"
   },
   "source": [
    "Chaque séquence à une longeur de 58 nucléotide."
   ]
  },
  {
   "cell_type": "code",
   "execution_count": 0,
   "metadata": {
    "colab": {},
    "colab_type": "code",
    "id": "nZpBfE9Fbsvh"
   },
   "outputs": [],
   "source": [
    " "
   ]
  },
  {
   "cell_type": "markdown",
   "metadata": {
    "colab_type": "text",
    "id": "BTrDxD6IeY2Y"
   },
   "source": [
    "## 2. Vectorization\n",
    "\n",
    "Etant donné les chaines de nucléotides, il nous faut les convertir sous forme numérique. Les bases sont codifiés d'après un codage simple a = 1, g = 2, c = 3, t = 4.\n",
    "\n",
    "Ici, nous construisons une matrice à partir des vecteurs obtenus."
   ]
  },
  {
   "cell_type": "code",
   "execution_count": 0,
   "metadata": {
    "colab": {},
    "colab_type": "code",
    "id": "FJVmZoApbsss"
   },
   "outputs": [],
   "source": [
    "matrix = []\n",
    "\n",
    "types = {\n",
    "    \"a\" : 1,\n",
    "    \"g\" : 2,\n",
    "    \"c\" : 3,\n",
    "    \"t\" : 4\n",
    "}\n",
    "\n",
    "for index, seqList in enumerate(nucleotidesList):\n",
    "  tmp = []\n",
    "  for elem in seqList:\n",
    "    tmp.append(types[elem])\n",
    "  matrix.append(tmp)"
   ]
  },
  {
   "cell_type": "markdown",
   "metadata": {
    "colab_type": "text",
    "id": "gsKX2BWAt7JX"
   },
   "source": [
    "## 3.Some statistics \n",
    "\n",
    "Les données sont prêtes pour l'entrainement et le testing. Avant de passer à la suite, il y'a un tableau ci dessous qui reprend quelques informations qui peuvent nous être utile. \n",
    "\n",
    "Il est intéréssant de se familiariser avec le dataset afin de choisir la bonne méthode de machine learning.\n",
    "\n"
   ]
  },
  {
   "cell_type": "code",
   "execution_count": 0,
   "metadata": {
    "colab": {
     "base_uri": "https://localhost:8080/",
     "height": 351
    },
    "colab_type": "code",
    "id": "lVMY8o2obsp1",
    "outputId": "e394d2cd-ba88-4ba6-9be9-79e5e8ae96e3"
   },
   "outputs": [
    {
     "name": "stdout",
     "output_type": "stream",
     "text": [
      "[[4, 1, 3, 4, 1, 2, 3, 1, 1, 4, 1, 3, 2, 3, 4, 4, 2, 3, 2, 4, 4, 3, 2, 2, 4, 2, 2, 4, 4, 1, 1, 2, 4, 1, 4, 2, 4, 1, 4, 1, 1, 4, 2, 3, 2, 3, 2, 2, 2, 3, 4, 4, 2, 4, 3, 2, 4], [4, 2, 3, 4, 1, 4, 3, 3, 4, 2, 1, 3, 1, 2, 4, 4, 2, 4, 3, 1, 3, 2, 3, 4, 2, 1, 4, 4, 2, 2, 4, 2, 4, 3, 2, 4, 4, 1, 3, 1, 1, 4, 3, 4, 1, 1, 3, 2, 3, 1, 4, 3, 2, 3, 3, 1, 1], [2, 4, 1, 3, 4, 1, 2, 1, 2, 1, 1, 3, 4, 1, 2, 4, 2, 3, 1, 4, 4, 1, 2, 3, 4, 4, 1, 4, 4, 4, 4, 4, 4, 4, 2, 4, 4, 1, 4, 3, 1, 4, 2, 3, 4, 1, 1, 3, 3, 1, 3, 3, 3, 2, 2, 3, 2], [1, 1, 4, 4, 2, 4, 2, 1, 4, 2, 4, 2, 4, 1, 4, 3, 2, 1, 1, 2, 4, 2, 4, 2, 4, 4, 2, 3, 2, 2, 1, 2, 4, 1, 2, 1, 4, 2, 4, 4, 1, 2, 1, 1, 4, 1, 3, 4, 1, 1, 3, 1, 1, 1, 3, 4, 3], [4, 3, 2, 1, 4, 1, 1, 4, 4, 1, 1, 3, 4, 1, 4, 4, 2, 1, 3, 2, 1, 1, 1, 1, 2, 3, 4, 2, 1, 1, 1, 1, 3, 3, 1, 3, 4, 1, 2, 1, 1, 4, 2, 3, 2, 3, 3, 4, 3, 3, 2, 4, 2, 2, 4, 1, 2]]\n",
      "106\n"
     ]
    },
    {
     "data": {
      "text/html": [
       "<div>\n",
       "<style scoped>\n",
       "    .dataframe tbody tr th:only-of-type {\n",
       "        vertical-align: middle;\n",
       "    }\n",
       "\n",
       "    .dataframe tbody tr th {\n",
       "        vertical-align: top;\n",
       "    }\n",
       "\n",
       "    .dataframe thead th {\n",
       "        text-align: right;\n",
       "    }\n",
       "</style>\n",
       "<table border=\"1\" class=\"dataframe\">\n",
       "  <thead>\n",
       "    <tr style=\"text-align: right;\">\n",
       "      <th></th>\n",
       "      <th>0</th>\n",
       "      <th>1</th>\n",
       "      <th>2</th>\n",
       "      <th>3</th>\n",
       "      <th>4</th>\n",
       "      <th>5</th>\n",
       "      <th>6</th>\n",
       "      <th>7</th>\n",
       "      <th>8</th>\n",
       "      <th>9</th>\n",
       "      <th>10</th>\n",
       "      <th>11</th>\n",
       "      <th>12</th>\n",
       "      <th>13</th>\n",
       "      <th>14</th>\n",
       "      <th>15</th>\n",
       "      <th>16</th>\n",
       "      <th>17</th>\n",
       "      <th>18</th>\n",
       "      <th>19</th>\n",
       "      <th>20</th>\n",
       "      <th>21</th>\n",
       "      <th>22</th>\n",
       "      <th>23</th>\n",
       "      <th>24</th>\n",
       "      <th>25</th>\n",
       "      <th>26</th>\n",
       "      <th>27</th>\n",
       "      <th>28</th>\n",
       "      <th>29</th>\n",
       "      <th>30</th>\n",
       "      <th>31</th>\n",
       "      <th>32</th>\n",
       "      <th>33</th>\n",
       "      <th>34</th>\n",
       "      <th>35</th>\n",
       "      <th>36</th>\n",
       "      <th>37</th>\n",
       "      <th>38</th>\n",
       "      <th>39</th>\n",
       "      <th>40</th>\n",
       "      <th>41</th>\n",
       "      <th>42</th>\n",
       "      <th>43</th>\n",
       "      <th>44</th>\n",
       "      <th>45</th>\n",
       "      <th>46</th>\n",
       "      <th>47</th>\n",
       "      <th>48</th>\n",
       "      <th>49</th>\n",
       "      <th>50</th>\n",
       "      <th>51</th>\n",
       "      <th>52</th>\n",
       "      <th>53</th>\n",
       "      <th>54</th>\n",
       "      <th>55</th>\n",
       "      <th>56</th>\n",
       "    </tr>\n",
       "  </thead>\n",
       "  <tbody>\n",
       "    <tr>\n",
       "      <th>count</th>\n",
       "      <td>106.000000</td>\n",
       "      <td>106.000000</td>\n",
       "      <td>106.000000</td>\n",
       "      <td>106.000000</td>\n",
       "      <td>106.000000</td>\n",
       "      <td>106.000000</td>\n",
       "      <td>106.000000</td>\n",
       "      <td>106.000000</td>\n",
       "      <td>106.000000</td>\n",
       "      <td>106.000000</td>\n",
       "      <td>106.000000</td>\n",
       "      <td>106.000000</td>\n",
       "      <td>106.000000</td>\n",
       "      <td>106.000000</td>\n",
       "      <td>106.000000</td>\n",
       "      <td>106.000000</td>\n",
       "      <td>106.000000</td>\n",
       "      <td>106.000000</td>\n",
       "      <td>106.000000</td>\n",
       "      <td>106.000000</td>\n",
       "      <td>106.000000</td>\n",
       "      <td>106.000000</td>\n",
       "      <td>106.000000</td>\n",
       "      <td>106.000000</td>\n",
       "      <td>106.000000</td>\n",
       "      <td>106.000000</td>\n",
       "      <td>106.000000</td>\n",
       "      <td>106.000000</td>\n",
       "      <td>106.000000</td>\n",
       "      <td>106.000000</td>\n",
       "      <td>106.000000</td>\n",
       "      <td>106.000000</td>\n",
       "      <td>106.000000</td>\n",
       "      <td>106.000000</td>\n",
       "      <td>106.000000</td>\n",
       "      <td>106.000000</td>\n",
       "      <td>106.000000</td>\n",
       "      <td>106.000000</td>\n",
       "      <td>106.000000</td>\n",
       "      <td>106.000000</td>\n",
       "      <td>106.000000</td>\n",
       "      <td>106.000000</td>\n",
       "      <td>106.000000</td>\n",
       "      <td>106.000000</td>\n",
       "      <td>106.000000</td>\n",
       "      <td>106.000000</td>\n",
       "      <td>106.000000</td>\n",
       "      <td>106.000000</td>\n",
       "      <td>106.000000</td>\n",
       "      <td>106.000000</td>\n",
       "      <td>106.000000</td>\n",
       "      <td>106.000000</td>\n",
       "      <td>106.000000</td>\n",
       "      <td>106.000000</td>\n",
       "      <td>106.000000</td>\n",
       "      <td>106.000000</td>\n",
       "      <td>106.000000</td>\n",
       "    </tr>\n",
       "    <tr>\n",
       "      <th>mean</th>\n",
       "      <td>2.726415</td>\n",
       "      <td>2.377358</td>\n",
       "      <td>2.424528</td>\n",
       "      <td>2.566038</td>\n",
       "      <td>2.254717</td>\n",
       "      <td>2.226415</td>\n",
       "      <td>2.405660</td>\n",
       "      <td>2.471698</td>\n",
       "      <td>2.500000</td>\n",
       "      <td>2.396226</td>\n",
       "      <td>2.433962</td>\n",
       "      <td>2.641509</td>\n",
       "      <td>2.500000</td>\n",
       "      <td>2.528302</td>\n",
       "      <td>2.924528</td>\n",
       "      <td>3.084906</td>\n",
       "      <td>2.443396</td>\n",
       "      <td>2.235849</td>\n",
       "      <td>2.594340</td>\n",
       "      <td>2.386792</td>\n",
       "      <td>2.584906</td>\n",
       "      <td>2.386792</td>\n",
       "      <td>2.556604</td>\n",
       "      <td>2.575472</td>\n",
       "      <td>2.528302</td>\n",
       "      <td>2.433962</td>\n",
       "      <td>2.424528</td>\n",
       "      <td>2.726415</td>\n",
       "      <td>2.679245</td>\n",
       "      <td>2.273585</td>\n",
       "      <td>2.396226</td>\n",
       "      <td>2.386792</td>\n",
       "      <td>2.773585</td>\n",
       "      <td>2.764151</td>\n",
       "      <td>2.509434</td>\n",
       "      <td>2.660377</td>\n",
       "      <td>2.783019</td>\n",
       "      <td>2.547170</td>\n",
       "      <td>2.528302</td>\n",
       "      <td>2.207547</td>\n",
       "      <td>2.311321</td>\n",
       "      <td>2.698113</td>\n",
       "      <td>2.745283</td>\n",
       "      <td>2.783019</td>\n",
       "      <td>2.424528</td>\n",
       "      <td>2.509434</td>\n",
       "      <td>2.490566</td>\n",
       "      <td>2.575472</td>\n",
       "      <td>2.518868</td>\n",
       "      <td>2.584906</td>\n",
       "      <td>2.462264</td>\n",
       "      <td>2.669811</td>\n",
       "      <td>2.622642</td>\n",
       "      <td>2.660377</td>\n",
       "      <td>2.462264</td>\n",
       "      <td>2.594340</td>\n",
       "      <td>2.547170</td>\n",
       "    </tr>\n",
       "    <tr>\n",
       "      <th>std</th>\n",
       "      <td>1.191502</td>\n",
       "      <td>1.174757</td>\n",
       "      <td>1.154273</td>\n",
       "      <td>1.078084</td>\n",
       "      <td>1.138598</td>\n",
       "      <td>1.197482</td>\n",
       "      <td>1.240417</td>\n",
       "      <td>1.228298</td>\n",
       "      <td>1.220851</td>\n",
       "      <td>1.208535</td>\n",
       "      <td>1.249906</td>\n",
       "      <td>1.088369</td>\n",
       "      <td>1.205148</td>\n",
       "      <td>1.052955</td>\n",
       "      <td>1.239801</td>\n",
       "      <td>1.122225</td>\n",
       "      <td>0.995994</td>\n",
       "      <td>1.134329</td>\n",
       "      <td>1.093516</td>\n",
       "      <td>1.134488</td>\n",
       "      <td>1.194176</td>\n",
       "      <td>1.151155</td>\n",
       "      <td>1.087419</td>\n",
       "      <td>1.145992</td>\n",
       "      <td>1.188897</td>\n",
       "      <td>1.163074</td>\n",
       "      <td>1.112253</td>\n",
       "      <td>1.064877</td>\n",
       "      <td>1.108815</td>\n",
       "      <td>1.108693</td>\n",
       "      <td>1.239656</td>\n",
       "      <td>1.142852</td>\n",
       "      <td>1.189502</td>\n",
       "      <td>1.134329</td>\n",
       "      <td>1.131752</td>\n",
       "      <td>1.137138</td>\n",
       "      <td>1.171118</td>\n",
       "      <td>1.172154</td>\n",
       "      <td>1.251342</td>\n",
       "      <td>1.239946</td>\n",
       "      <td>1.229504</td>\n",
       "      <td>1.096920</td>\n",
       "      <td>1.187725</td>\n",
       "      <td>1.112738</td>\n",
       "      <td>1.154273</td>\n",
       "      <td>1.071228</td>\n",
       "      <td>1.106219</td>\n",
       "      <td>1.112253</td>\n",
       "      <td>1.044087</td>\n",
       "      <td>1.058912</td>\n",
       "      <td>1.105609</td>\n",
       "      <td>1.168815</td>\n",
       "      <td>1.174757</td>\n",
       "      <td>1.103128</td>\n",
       "      <td>1.088245</td>\n",
       "      <td>1.119339</td>\n",
       "      <td>1.188293</td>\n",
       "    </tr>\n",
       "    <tr>\n",
       "      <th>min</th>\n",
       "      <td>1.000000</td>\n",
       "      <td>1.000000</td>\n",
       "      <td>1.000000</td>\n",
       "      <td>1.000000</td>\n",
       "      <td>1.000000</td>\n",
       "      <td>1.000000</td>\n",
       "      <td>1.000000</td>\n",
       "      <td>1.000000</td>\n",
       "      <td>1.000000</td>\n",
       "      <td>1.000000</td>\n",
       "      <td>1.000000</td>\n",
       "      <td>1.000000</td>\n",
       "      <td>1.000000</td>\n",
       "      <td>1.000000</td>\n",
       "      <td>1.000000</td>\n",
       "      <td>1.000000</td>\n",
       "      <td>1.000000</td>\n",
       "      <td>1.000000</td>\n",
       "      <td>1.000000</td>\n",
       "      <td>1.000000</td>\n",
       "      <td>1.000000</td>\n",
       "      <td>1.000000</td>\n",
       "      <td>1.000000</td>\n",
       "      <td>1.000000</td>\n",
       "      <td>1.000000</td>\n",
       "      <td>1.000000</td>\n",
       "      <td>1.000000</td>\n",
       "      <td>1.000000</td>\n",
       "      <td>1.000000</td>\n",
       "      <td>1.000000</td>\n",
       "      <td>1.000000</td>\n",
       "      <td>1.000000</td>\n",
       "      <td>1.000000</td>\n",
       "      <td>1.000000</td>\n",
       "      <td>1.000000</td>\n",
       "      <td>1.000000</td>\n",
       "      <td>1.000000</td>\n",
       "      <td>1.000000</td>\n",
       "      <td>1.000000</td>\n",
       "      <td>1.000000</td>\n",
       "      <td>1.000000</td>\n",
       "      <td>1.000000</td>\n",
       "      <td>1.000000</td>\n",
       "      <td>1.000000</td>\n",
       "      <td>1.000000</td>\n",
       "      <td>1.000000</td>\n",
       "      <td>1.000000</td>\n",
       "      <td>1.000000</td>\n",
       "      <td>1.000000</td>\n",
       "      <td>1.000000</td>\n",
       "      <td>1.000000</td>\n",
       "      <td>1.000000</td>\n",
       "      <td>1.000000</td>\n",
       "      <td>1.000000</td>\n",
       "      <td>1.000000</td>\n",
       "      <td>1.000000</td>\n",
       "      <td>1.000000</td>\n",
       "    </tr>\n",
       "    <tr>\n",
       "      <th>25%</th>\n",
       "      <td>2.000000</td>\n",
       "      <td>1.000000</td>\n",
       "      <td>1.000000</td>\n",
       "      <td>2.000000</td>\n",
       "      <td>1.000000</td>\n",
       "      <td>1.000000</td>\n",
       "      <td>1.000000</td>\n",
       "      <td>1.000000</td>\n",
       "      <td>1.000000</td>\n",
       "      <td>1.000000</td>\n",
       "      <td>1.000000</td>\n",
       "      <td>2.000000</td>\n",
       "      <td>1.000000</td>\n",
       "      <td>2.000000</td>\n",
       "      <td>2.000000</td>\n",
       "      <td>2.000000</td>\n",
       "      <td>2.000000</td>\n",
       "      <td>1.000000</td>\n",
       "      <td>1.250000</td>\n",
       "      <td>1.000000</td>\n",
       "      <td>1.000000</td>\n",
       "      <td>1.000000</td>\n",
       "      <td>2.000000</td>\n",
       "      <td>2.000000</td>\n",
       "      <td>1.000000</td>\n",
       "      <td>1.000000</td>\n",
       "      <td>1.000000</td>\n",
       "      <td>2.000000</td>\n",
       "      <td>2.000000</td>\n",
       "      <td>1.000000</td>\n",
       "      <td>1.000000</td>\n",
       "      <td>1.000000</td>\n",
       "      <td>2.000000</td>\n",
       "      <td>2.000000</td>\n",
       "      <td>1.250000</td>\n",
       "      <td>2.000000</td>\n",
       "      <td>2.000000</td>\n",
       "      <td>1.250000</td>\n",
       "      <td>1.000000</td>\n",
       "      <td>1.000000</td>\n",
       "      <td>1.000000</td>\n",
       "      <td>2.000000</td>\n",
       "      <td>2.000000</td>\n",
       "      <td>2.000000</td>\n",
       "      <td>1.000000</td>\n",
       "      <td>2.000000</td>\n",
       "      <td>1.250000</td>\n",
       "      <td>2.000000</td>\n",
       "      <td>2.000000</td>\n",
       "      <td>2.000000</td>\n",
       "      <td>1.000000</td>\n",
       "      <td>1.250000</td>\n",
       "      <td>2.000000</td>\n",
       "      <td>2.000000</td>\n",
       "      <td>2.000000</td>\n",
       "      <td>2.000000</td>\n",
       "      <td>1.250000</td>\n",
       "    </tr>\n",
       "    <tr>\n",
       "      <th>50%</th>\n",
       "      <td>3.000000</td>\n",
       "      <td>2.000000</td>\n",
       "      <td>2.000000</td>\n",
       "      <td>3.000000</td>\n",
       "      <td>2.000000</td>\n",
       "      <td>2.000000</td>\n",
       "      <td>2.000000</td>\n",
       "      <td>2.000000</td>\n",
       "      <td>3.000000</td>\n",
       "      <td>2.000000</td>\n",
       "      <td>2.500000</td>\n",
       "      <td>3.000000</td>\n",
       "      <td>2.000000</td>\n",
       "      <td>3.000000</td>\n",
       "      <td>4.000000</td>\n",
       "      <td>4.000000</td>\n",
       "      <td>2.000000</td>\n",
       "      <td>2.000000</td>\n",
       "      <td>3.000000</td>\n",
       "      <td>2.000000</td>\n",
       "      <td>3.000000</td>\n",
       "      <td>2.000000</td>\n",
       "      <td>3.000000</td>\n",
       "      <td>2.500000</td>\n",
       "      <td>2.500000</td>\n",
       "      <td>2.000000</td>\n",
       "      <td>2.000000</td>\n",
       "      <td>3.000000</td>\n",
       "      <td>3.000000</td>\n",
       "      <td>2.000000</td>\n",
       "      <td>2.000000</td>\n",
       "      <td>2.000000</td>\n",
       "      <td>3.000000</td>\n",
       "      <td>3.000000</td>\n",
       "      <td>3.000000</td>\n",
       "      <td>3.000000</td>\n",
       "      <td>3.000000</td>\n",
       "      <td>2.500000</td>\n",
       "      <td>3.000000</td>\n",
       "      <td>2.000000</td>\n",
       "      <td>2.000000</td>\n",
       "      <td>3.000000</td>\n",
       "      <td>3.000000</td>\n",
       "      <td>3.000000</td>\n",
       "      <td>2.000000</td>\n",
       "      <td>3.000000</td>\n",
       "      <td>3.000000</td>\n",
       "      <td>3.000000</td>\n",
       "      <td>3.000000</td>\n",
       "      <td>3.000000</td>\n",
       "      <td>3.000000</td>\n",
       "      <td>3.000000</td>\n",
       "      <td>3.000000</td>\n",
       "      <td>3.000000</td>\n",
       "      <td>2.000000</td>\n",
       "      <td>3.000000</td>\n",
       "      <td>2.000000</td>\n",
       "    </tr>\n",
       "    <tr>\n",
       "      <th>75%</th>\n",
       "      <td>4.000000</td>\n",
       "      <td>3.000000</td>\n",
       "      <td>3.750000</td>\n",
       "      <td>3.000000</td>\n",
       "      <td>3.000000</td>\n",
       "      <td>3.000000</td>\n",
       "      <td>4.000000</td>\n",
       "      <td>4.000000</td>\n",
       "      <td>4.000000</td>\n",
       "      <td>4.000000</td>\n",
       "      <td>4.000000</td>\n",
       "      <td>4.000000</td>\n",
       "      <td>4.000000</td>\n",
       "      <td>3.000000</td>\n",
       "      <td>4.000000</td>\n",
       "      <td>4.000000</td>\n",
       "      <td>3.000000</td>\n",
       "      <td>3.000000</td>\n",
       "      <td>3.000000</td>\n",
       "      <td>3.000000</td>\n",
       "      <td>4.000000</td>\n",
       "      <td>3.000000</td>\n",
       "      <td>3.750000</td>\n",
       "      <td>4.000000</td>\n",
       "      <td>4.000000</td>\n",
       "      <td>4.000000</td>\n",
       "      <td>3.000000</td>\n",
       "      <td>4.000000</td>\n",
       "      <td>4.000000</td>\n",
       "      <td>3.000000</td>\n",
       "      <td>4.000000</td>\n",
       "      <td>3.000000</td>\n",
       "      <td>4.000000</td>\n",
       "      <td>4.000000</td>\n",
       "      <td>3.750000</td>\n",
       "      <td>4.000000</td>\n",
       "      <td>4.000000</td>\n",
       "      <td>4.000000</td>\n",
       "      <td>4.000000</td>\n",
       "      <td>3.750000</td>\n",
       "      <td>3.750000</td>\n",
       "      <td>4.000000</td>\n",
       "      <td>4.000000</td>\n",
       "      <td>4.000000</td>\n",
       "      <td>4.000000</td>\n",
       "      <td>3.000000</td>\n",
       "      <td>3.000000</td>\n",
       "      <td>3.750000</td>\n",
       "      <td>3.000000</td>\n",
       "      <td>3.000000</td>\n",
       "      <td>3.000000</td>\n",
       "      <td>4.000000</td>\n",
       "      <td>4.000000</td>\n",
       "      <td>4.000000</td>\n",
       "      <td>3.000000</td>\n",
       "      <td>4.000000</td>\n",
       "      <td>4.000000</td>\n",
       "    </tr>\n",
       "    <tr>\n",
       "      <th>max</th>\n",
       "      <td>4.000000</td>\n",
       "      <td>4.000000</td>\n",
       "      <td>4.000000</td>\n",
       "      <td>4.000000</td>\n",
       "      <td>4.000000</td>\n",
       "      <td>4.000000</td>\n",
       "      <td>4.000000</td>\n",
       "      <td>4.000000</td>\n",
       "      <td>4.000000</td>\n",
       "      <td>4.000000</td>\n",
       "      <td>4.000000</td>\n",
       "      <td>4.000000</td>\n",
       "      <td>4.000000</td>\n",
       "      <td>4.000000</td>\n",
       "      <td>4.000000</td>\n",
       "      <td>4.000000</td>\n",
       "      <td>4.000000</td>\n",
       "      <td>4.000000</td>\n",
       "      <td>4.000000</td>\n",
       "      <td>4.000000</td>\n",
       "      <td>4.000000</td>\n",
       "      <td>4.000000</td>\n",
       "      <td>4.000000</td>\n",
       "      <td>4.000000</td>\n",
       "      <td>4.000000</td>\n",
       "      <td>4.000000</td>\n",
       "      <td>4.000000</td>\n",
       "      <td>4.000000</td>\n",
       "      <td>4.000000</td>\n",
       "      <td>4.000000</td>\n",
       "      <td>4.000000</td>\n",
       "      <td>4.000000</td>\n",
       "      <td>4.000000</td>\n",
       "      <td>4.000000</td>\n",
       "      <td>4.000000</td>\n",
       "      <td>4.000000</td>\n",
       "      <td>4.000000</td>\n",
       "      <td>4.000000</td>\n",
       "      <td>4.000000</td>\n",
       "      <td>4.000000</td>\n",
       "      <td>4.000000</td>\n",
       "      <td>4.000000</td>\n",
       "      <td>4.000000</td>\n",
       "      <td>4.000000</td>\n",
       "      <td>4.000000</td>\n",
       "      <td>4.000000</td>\n",
       "      <td>4.000000</td>\n",
       "      <td>4.000000</td>\n",
       "      <td>4.000000</td>\n",
       "      <td>4.000000</td>\n",
       "      <td>4.000000</td>\n",
       "      <td>4.000000</td>\n",
       "      <td>4.000000</td>\n",
       "      <td>4.000000</td>\n",
       "      <td>4.000000</td>\n",
       "      <td>4.000000</td>\n",
       "      <td>4.000000</td>\n",
       "    </tr>\n",
       "  </tbody>\n",
       "</table>\n",
       "</div>"
      ],
      "text/plain": [
       "               0           1           2   ...          54          55          56\n",
       "count  106.000000  106.000000  106.000000  ...  106.000000  106.000000  106.000000\n",
       "mean     2.726415    2.377358    2.424528  ...    2.462264    2.594340    2.547170\n",
       "std      1.191502    1.174757    1.154273  ...    1.088245    1.119339    1.188293\n",
       "min      1.000000    1.000000    1.000000  ...    1.000000    1.000000    1.000000\n",
       "25%      2.000000    1.000000    1.000000  ...    2.000000    2.000000    1.250000\n",
       "50%      3.000000    2.000000    2.000000  ...    2.000000    3.000000    2.000000\n",
       "75%      4.000000    3.000000    3.750000  ...    3.000000    4.000000    4.000000\n",
       "max      4.000000    4.000000    4.000000  ...    4.000000    4.000000    4.000000\n",
       "\n",
       "[8 rows x 57 columns]"
      ]
     },
     "execution_count": 37,
     "metadata": {
      "tags": []
     },
     "output_type": "execute_result"
    }
   ],
   "source": [
    "print(matrix[:5])\n",
    "print(len(matrix))\n",
    "\n",
    "df = pd.DataFrame.from_records(matrix)\n",
    "df.describe()\n",
    "\n"
   ]
  },
  {
   "cell_type": "code",
   "execution_count": 0,
   "metadata": {
    "colab": {
     "base_uri": "https://localhost:8080/",
     "height": 136
    },
    "colab_type": "code",
    "id": "yqTIPjwCvKxB",
    "outputId": "8f582ea4-1f0e-4c2a-ecc0-4ed2d230ab51"
   },
   "outputs": [
    {
     "name": "stdout",
     "output_type": "stream",
     "text": [
      "   0   1   2   3   4   5   6   7   8   ...  48  49  50  51  52  53  54  55  56\n",
      "a  26  34  30  22  36  42  38  34  33  ...  23  24  28  27  25  22  26  24  27\n",
      "g  15  24  28  28  29  22  17  20  19  ...  26  18  24  14  25  22  28  24  28\n",
      "c  27  22  21  30  19  18  21  20  22  ...  36  42  31  32  21  32  29  29  17\n",
      "t  38  26  27  26  22  24  30  32  32  ...  21  22  23  33  35  30  23  29  34\n",
      "\n",
      "[4 rows x 57 columns]\n"
     ]
    }
   ],
   "source": [
    "series = []\n",
    "for name in df.columns:\n",
    "    series.append(df[name].value_counts())\n",
    "    \n",
    "info = pd.DataFrame(series)\n",
    "info.columns = ['a', 'g', 'c', 't']\n",
    "details = info.transpose()\n",
    "print(details)"
   ]
  },
  {
   "cell_type": "code",
   "execution_count": 0,
   "metadata": {
    "colab": {
     "base_uri": "https://localhost:8080/",
     "height": 265
    },
    "colab_type": "code",
    "id": "jqwolZyzqPt2",
    "outputId": "c6d9ee64-5270-43e0-8069-385b5d6e5b97"
   },
   "outputs": [
    {
     "data": {
      "image/png": "[encoded data removed]",
      "text/plain": [
       "<Figure size 432x288 with 1 Axes>"
      ]
     },
     "metadata": {
      "needs_background": "light",
      "tags": []
     },
     "output_type": "display_data"
    }
   ],
   "source": [
    "import matplotlib.pyplot as plt\n",
    "\n",
    "pd.DataFrame(df[:1]).T.plot()\n",
    "plt.show()"
   ]
  },
  {
   "cell_type": "markdown",
   "metadata": {
    "colab_type": "text",
    "id": "Uxbz73lMixiG"
   },
   "source": [
    "# Testing\n"
   ]
  },
  {
   "cell_type": "code",
   "execution_count": 0,
   "metadata": {
    "colab": {},
    "colab_type": "code",
    "id": "mCBjBaWvbsm-"
   },
   "outputs": [],
   "source": [
    "# Use the model_selection module to separate training and testing datasets\n",
    "from sklearn import model_selection\n",
    "\n",
    "# Create X and Y datasets for training\n",
    "X = np.array(matrix)\n",
    "y = np.array(classList)\n",
    "\n",
    "# define seed for reproducibility\n",
    "seed = 1\n",
    "\n",
    "# split data into training and testing datasets\n",
    "X_train, X_test, y_train, y_test = model_selection.train_test_split(X, y, test_size=0.25, random_state=seed)"
   ]
  },
  {
   "cell_type": "markdown",
   "metadata": {
    "colab_type": "text",
    "id": "CQVZDBHsluad"
   },
   "source": [
    "Let's start by observing the data at hand"
   ]
  },
  {
   "cell_type": "code",
   "execution_count": 0,
   "metadata": {
    "colab": {
     "base_uri": "https://localhost:8080/",
     "height": 265
    },
    "colab_type": "code",
    "id": "3U1gEBCqlt6U",
    "outputId": "dc015075-32fc-43fb-c18b-474d64795a1c"
   },
   "outputs": [
    {
     "data": {
      "image/png": "[encoded data removed]",
      "text/plain": [
       "<Figure size 432x288 with 1 Axes>"
      ]
     },
     "metadata": {
      "needs_background": "light",
      "tags": []
     },
     "output_type": "display_data"
    }
   ],
   "source": [
    "plt.scatter( X[:,11],X[:,21],c=y)\n",
    "plt.show()"
   ]
  },
  {
   "cell_type": "markdown",
   "metadata": {
    "colab_type": "text",
    "id": "prwbd0DollKk"
   },
   "source": [
    "# Training"
   ]
  },
  {
   "cell_type": "code",
   "execution_count": 0,
   "metadata": {
    "colab": {},
    "colab_type": "code",
    "id": "QqH_ttUSbskS"
   },
   "outputs": [],
   "source": []
  },
  {
   "cell_type": "code",
   "execution_count": 0,
   "metadata": {
    "colab": {},
    "colab_type": "code",
    "id": "2FXm-F6rbshp"
   },
   "outputs": [],
   "source": []
  },
  {
   "cell_type": "code",
   "execution_count": 0,
   "metadata": {
    "colab": {},
    "colab_type": "code",
    "id": "NgvSAUgAbsem"
   },
   "outputs": [],
   "source": []
  },
  {
   "cell_type": "code",
   "execution_count": 0,
   "metadata": {
    "colab": {},
    "colab_type": "code",
    "id": "zt52jnmZbsbP"
   },
   "outputs": [],
   "source": []
  },
  {
   "cell_type": "code",
   "execution_count": 0,
   "metadata": {
    "colab": {},
    "colab_type": "code",
    "id": "K9r6kgCUbsWq"
   },
   "outputs": [],
   "source": []
  },
  {
   "cell_type": "code",
   "execution_count": 0,
   "metadata": {
    "colab": {},
    "colab_type": "code",
    "id": "Q41AfEMjbsTw"
   },
   "outputs": [],
   "source": []
  },
  {
   "cell_type": "code",
   "execution_count": 0,
   "metadata": {
    "colab": {},
    "colab_type": "code",
    "id": "hHmkz3aTbsRG"
   },
   "outputs": [],
   "source": []
  },
  {
   "cell_type": "code",
   "execution_count": 0,
   "metadata": {
    "colab": {},
    "colab_type": "code",
    "id": "oA_iwyrvbsHL"
   },
   "outputs": [],
   "source": []
  },
  {
   "cell_type": "code",
   "execution_count": 0,
   "metadata": {
    "colab": {
     "base_uri": "https://localhost:8080/",
     "height": 102
    },
    "colab_type": "code",
    "id": "BOAeoMBpMIbm",
    "outputId": "4a2e3a51-72d4-4493-eaf5-2a6a062d792e"
   },
   "outputs": [
    {
     "name": "stdout",
     "output_type": "stream",
     "text": [
      "Python: 3.6.9 (default, Nov  7 2019, 10:44:02) \n",
      "[GCC 8.3.0]\n",
      "Numpy: 1.18.3\n",
      "Sklearn: 0.22.2.post1\n",
      "Pandas: 1.0.3\n"
     ]
    }
   ],
   "source": [
    "\n",
    "\n",
    "print('Python: {}'.format(sys.version))\n",
    "print('Numpy: {}'.format(numpy.__version__))\n",
    "print('Sklearn: {}'.format(sklearn.__version__))\n",
    "print('Pandas: {}'.format(pandas.__version__))\n",
    "\n",
    "# import the uci Molecular Biology (Promoter Gene Sequences) Data Set\n",
    "url = 'https://archive.ics.uci.edu/ml/machine-learning-databases/molecular-biology/promoter-gene-sequences/promoters.data'\n",
    "names = ['Class', 'id', 'Sequence']\n",
    "data = pd.read_csv(url, names = names)"
   ]
  },
  {
   "cell_type": "code",
   "execution_count": 0,
   "metadata": {
    "colab": {},
    "colab_type": "code",
    "id": "6WG0bTzEYmnG"
   },
   "outputs": [],
   "source": [
    "\n"
   ]
  },
  {
   "cell_type": "code",
   "execution_count": 0,
   "metadata": {
    "colab": {},
    "colab_type": "code",
    "id": "R2AturoWZX97"
   },
   "outputs": [],
   "source": [
    " "
   ]
  },
  {
   "cell_type": "code",
   "execution_count": 0,
   "metadata": {
    "colab": {
     "base_uri": "https://localhost:8080/",
     "height": 85
    },
    "colab_type": "code",
    "id": "kuttY9UbMN4w",
    "outputId": "c9c8281d-23bd-4db3-a3ef-fc5f095f985f"
   },
   "outputs": [
    {
     "name": "stdout",
     "output_type": "stream",
     "text": [
      "Class                                                       +\n",
      "id                                                        S10\n",
      "Sequence    \\t\\ttactagcaatacgcttgcgttcggtggttaagtatgtataat...\n",
      "Name: 0, dtype: object\n"
     ]
    }
   ],
   "source": [
    "print(data.iloc[0])"
   ]
  },
  {
   "cell_type": "markdown",
   "metadata": {
    "colab_type": "text",
    "id": "BWfQZLzR2KYV"
   },
   "source": [
    "# Preprocessing Data \n",
    " \n",
    "Processing data before it's used to train a model. Preprocessing could be as simple as removing words from an English text corpus that don't occur in the English dictionary, or could be as complex as re-expressing data points in a way that eliminates as many attributes that are correlated with sensitive attributes as possible. Preprocessing can help satisfy fairness constraints.\n"
   ]
  },
  {
   "cell_type": "code",
   "execution_count": 0,
   "metadata": {
    "colab": {},
    "colab_type": "code",
    "id": "l0FU2rN4XikL"
   },
   "outputs": [],
   "source": []
  },
  {
   "cell_type": "code",
   "execution_count": 0,
   "metadata": {
    "colab": {
     "base_uri": "https://localhost:8080/",
     "height": 119
    },
    "colab_type": "code",
    "id": "05vRAv6IMPuV",
    "outputId": "8ed76d38-bd70-4d6a-f930-7801cf4c0b60"
   },
   "outputs": [
    {
     "name": "stdout",
     "output_type": "stream",
     "text": [
      "0    +\n",
      "1    +\n",
      "2    +\n",
      "3    +\n",
      "4    +\n",
      "Name: Class, dtype: object\n"
     ]
    }
   ],
   "source": [
    "# Building our Dataset by creating a custom Pandas DataFrame\n",
    "# Each column in a DataFrame is called a Series. Lets start by making a series for each column.\n",
    "\n",
    "classes = data.loc[:, 'Class']\n",
    "print(classes[:5])"
   ]
  },
  {
   "cell_type": "code",
   "execution_count": 0,
   "metadata": {
    "colab": {
     "base_uri": "https://localhost:8080/",
     "height": 54
    },
    "colab_type": "code",
    "id": "O4llZTTnMSxZ",
    "outputId": "4a22a067-929a-4307-fbcb-543b6ed1e639"
   },
   "outputs": [
    {
     "name": "stdout",
     "output_type": "stream",
     "text": [
      "['t', 'a', 'c', 't', 'a', 'g', 'c', 'a', 'a', 't', 'a', 'c', 'g', 'c', 't', 't', 'g', 'c', 'g', 't', 't', 'c', 'g', 'g', 't', 'g', 'g', 't', 't', 'a', 'a', 'g', 't', 'a', 't', 'g', 't', 'a', 't', 'a', 'a', 't', 'g', 'c', 'g', 'c', 'g', 'g', 'g', 'c', 't', 't', 'g', 't', 'c', 'g', 't', '+']\n"
     ]
    }
   ],
   "source": [
    "# generate list of DNA sequences\n",
    "sequences = list(data.loc[:, 'Sequence'])\n",
    "dataset = {}\n",
    "\n",
    "# loop through sequences and split into individual nucleotides\n",
    "for i, seq in enumerate(sequences):\n",
    "    \n",
    "    # split into nucleotides, remove tab characters\n",
    "    nucleotides = list(seq)\n",
    "    nucleotides = [x for x in nucleotides if x != '\\t']\n",
    "    \n",
    "    # append class assignment\n",
    "    nucleotides.append(classes[i])\n",
    "    \n",
    "    # add to dataset\n",
    "    dataset[i] = nucleotides\n",
    "    \n",
    "print(dataset[0])"
   ]
  },
  {
   "cell_type": "code",
   "execution_count": 0,
   "metadata": {
    "colab": {
     "base_uri": "https://localhost:8080/",
     "height": 1000
    },
    "colab_type": "code",
    "id": "9ZdbSU6NMU_G",
    "outputId": "5c55e690-4bbb-41ee-a7fb-5c9eebc0a936"
   },
   "outputs": [
    {
     "name": "stdout",
     "output_type": "stream",
     "text": [
      "   0   1   2   3   4   5   6   7   8    ... 97  98  99  100 101 102 103 104 105\n",
      "0    t   t   g   a   t   a   c   t   c  ...   c   t   a   g   c   g   c   c   t\n",
      "1    a   g   t   a   c   g   a   t   g  ...   g   a   g   a   c   t   g   t   a\n",
      "2    c   c   a   t   g   g   g   t   a  ...   c   t   a   g   t   a   c   c   a\n",
      "3    t   t   c   t   a   g   g   c   c  ...   t   g   g   a   c   t   g   g   c\n",
      "4    a   a   t   g   t   g   g   t   t  ...   a   a   g   g   a   t   a   t   a\n",
      "5    g   t   a   t   a   c   g   a   t  ...   g   c   g   c   a   c   c   c   t\n",
      "6    c   c   g   g   a   a   g   c   a  ...   g   c   t   a   t   t   t   c   t\n",
      "7    a   c   a   a   t   a   t   a   a  ...   a   g   g   t   g   c   a   t   a\n",
      "8    a   t   g   t   t   g   g   a   t  ...   c   a   t   g   g   a   c   c   a\n",
      "9    t   g   a   g   a   g   g   a   a  ...   t   a   a   t   c   a   g   a   t\n",
      "10   a   a   a   t   a   a   a   a   t  ...   t   c   c   c   c   c   a   a   a\n",
      "11   c   c   c   g   c   g   g   c   a  ...   t   g   t   a   t   a   t   t   a\n",
      "12   g   a   t   t   t   g   g   a   c  ...   c   a   c   g   c   a   g   g   a\n",
      "13   c   g   a   a   a   a   a   c   t  ...   t   g   c   c   t   g   a   g   t\n",
      "14   t   t   g   t   t   t   t   t   g  ...   t   t   a   c   a   a   g   c   a\n",
      "15   t   t   t   c   t   g   t   t   c  ...   g   c   a   t   a   t   a   c   a\n",
      "16   g   g   g   g   g   g   t   g   g  ...   t   a   g   c   a   t   t   t   g\n",
      "17   c   t   c   a   a   a   a   a   a  ...   t   a   a   g   c   a   g   c   g\n",
      "18   g   c   a   a   c   a   a   t   c  ...   g   t   a   a   g   a   c   t   a\n",
      "19   t   a   t   g   g   a   g   a   a  ...   a   c   g   c   g   c   c   a   g\n",
      "20   t   c   t   t   a   g   c   c   g  ...   t   a   a   a   g   c   t   a   g\n",
      "21   c   g   a   g   a   a   c   t   g  ...   t   g   g   a   t   g   g   a   c\n",
      "22   g   c   g   t   a   g   a   g   a  ...   t   a   g   c   c   a   a   c   t\n",
      "23   g   t   c   g   a   g   t   t   c  ...   t   c   a   t   t   c   g   g   c\n",
      "24   t   g   t   t   g   t   c   a   g  ...   c   c   a   t   t   a   t   g   t\n",
      "25   g   a   t   t   c   t   t   t   t  ...   c   g   g   g   g   g   g   g   a\n",
      "26   g   t   a   g   t   g   c   g   c  ...   a   c   a   c   a   a   c   t   a\n",
      "27   t   t   t   c   g   c   c   a   c  ...   t   t   t   a   g   t   t   c   t\n",
      "28   t   g   t   g   a   c   t   g   g  ...   g   t   g   t   g   t   t   t   g\n",
      "29   a   g   t   g   a   g   g   c   t  ...   c   t   a   a   g   c   c   t   g\n",
      "30   a   t   t   a   a   t   a   a   t  ...   g   g   g   a   g   a   c   g   c\n",
      "31   g   g   t   g   a   a   t   t   c  ...   g   a   g   a   t   a   g   a   a\n",
      "32   t   t   t   t   c   t   g   a   t  ...   t   c   c   t   t   t   t   g   c\n",
      "33   a   c   t   a   c   a   a   c   g  ...   g   t   t   g   t   c   t   g   t\n",
      "34   t   g   g   g   a   a   c   a   t  ...   t   c   a   c   t   t   a   g   c\n",
      "35   g   t   t   a   c   a   g   g   g  ...   t   t   g   t   t   c   c   g   a\n",
      "36   t   t   t   t   t   g   c   t   t  ...   t   g   a   t   t   g   t   t   t\n",
      "37   a   a   a   g   a   a   a   a   a  ...   t   g   c   t   g   t   g   t   t\n",
      "38   t   c   t   t   g   a   t   t   a  ...   g   t   g   c   c   g   g   t   a\n",
      "39   a   a   c   t   a   a   a   a   a  ...   c   a   t   t   t   g   a   t   g\n",
      "40   a   a   a   a   a   c   g   a   t  ...   g   t   c   t   g   a   t   t   c\n",
      "41   t   t   t   g   t   t   t   t   c  ...   c   t   t   g   a   t   t   t   c\n",
      "42   g   c   g   a   g   a   c   t   g  ...   a   a   c   t   a   g   g   g   a\n",
      "43   c   t   c   a   c   g   a   g   c  ...   a   c   t   a   a   g   t   c   a\n",
      "44   g   a   t   t   g   a   g   c   a  ...   t   t   g   g   g   a   c   t   t\n",
      "45   c   a   a   a   c   g   c   t   a  ...   g   g   c   a   g   c   a   g   c\n",
      "46   g   c   a   c   c   t   c   t   t  ...   t   t   a   c   a   g   c   a   a\n",
      "47   g   g   c   t   t   c   c   c   g  ...   t   g   t   g   g   t   c   a   a\n",
      "48   g   c   c   a   c   c   a   a   a  ...   a   a   g   t   g   t   a   a   t\n",
      "49   c   a   a   a   c   g   t   a   a  ...   a   a   g   g   a   c   a   g   c\n",
      "50   t   t   c   c   g   t   c   c   a  ...   t   c   a   c   a   a   g   g   a\n",
      "51   t   c   c   a   t   t   a   a   t  ...   c   a   g   c   c   a   g   a   a\n",
      "52   g   g   c   a   g   t   t   g   g  ...   g   t   t   c   t   c   c   g   g\n",
      "53   t   c   g   a   g   a   g   a   g  ...   c   t   a   t   a   a   t   g   a\n",
      "54   c   c   g   c   t   g   a   a   t  ...   t   a   t   a   t   t   t   a   a\n",
      "55   g   a   c   t   a   g   a   c   t  ...   t   t   g   c   a   t   c   a   c\n",
      "56   t   a   g   c   g   t   t   a   t  ...   t   t   a   g   t   g   c   c   t\n",
      "57   +   +   +   +   +   +   +   +   +  ...   -   -   -   -   -   -   -   -   -\n",
      "\n",
      "[58 rows x 106 columns]\n"
     ]
    }
   ],
   "source": [
    "# turn dataset into pandas DataFrame\n",
    "dframe = pd.DataFrame(dataset)\n",
    "print(dframe)"
   ]
  },
  {
   "cell_type": "code",
   "execution_count": 0,
   "metadata": {
    "colab": {
     "base_uri": "https://localhost:8080/",
     "height": 153
    },
    "colab_type": "code",
    "id": "nc0rMPtlMYCW",
    "outputId": "12927f20-c264-4356-a712-ff89bb6b04e4"
   },
   "outputs": [
    {
     "name": "stdout",
     "output_type": "stream",
     "text": [
      "  0  1  2  3  4  5  6  7  8  9  10 11 12  ... 45 46 47 48 49 50 51 52 53 54 55 56 57\n",
      "0  t  a  c  t  a  g  c  a  a  t  a  c  g  ...  c  g  g  g  c  t  t  g  t  c  g  t  +\n",
      "1  t  g  c  t  a  t  c  c  t  g  a  c  a  ...  a  c  g  c  a  t  c  g  c  c  a  a  +\n",
      "2  g  t  a  c  t  a  g  a  g  a  a  c  t  ...  a  a  c  c  a  c  c  c  g  g  c  g  +\n",
      "3  a  a  t  t  g  t  g  a  t  g  t  g  t  ...  a  c  t  a  a  c  a  a  a  c  t  c  +\n",
      "4  t  c  g  a  t  a  a  t  t  a  a  c  t  ...  c  c  t  c  c  g  t  g  g  t  a  g  +\n",
      "\n",
      "[5 rows x 58 columns]\n"
     ]
    }
   ],
   "source": [
    "# transpose the DataFrame\n",
    "df = dframe.transpose()\n",
    "print(df.iloc[:5])"
   ]
  },
  {
   "cell_type": "markdown",
   "metadata": {
    "colab_type": "text",
    "id": "0LuA00P8fsVR"
   },
   "source": [
    "Les colonnes sont des séquence et les lignes sont des nucléotides."
   ]
  },
  {
   "cell_type": "code",
   "execution_count": 0,
   "metadata": {
    "colab": {
     "base_uri": "https://localhost:8080/",
     "height": 153
    },
    "colab_type": "code",
    "id": "0JYFn0QIMeNl",
    "outputId": "9871d4f0-6a60-4d9e-d6c5-a659fcf8758b"
   },
   "outputs": [
    {
     "name": "stdout",
     "output_type": "stream",
     "text": [
      "   0  1  2  3  4  5  6  7  8  9 10 11  ... 46 47 48 49 50 51 52 53 54 55 56 Class\n",
      "0  t  a  c  t  a  g  c  a  a  t  a  c  ...  g  g  g  c  t  t  g  t  c  g  t     +\n",
      "1  t  g  c  t  a  t  c  c  t  g  a  c  ...  c  g  c  a  t  c  g  c  c  a  a     +\n",
      "2  g  t  a  c  t  a  g  a  g  a  a  c  ...  a  c  c  a  c  c  c  g  g  c  g     +\n",
      "3  a  a  t  t  g  t  g  a  t  g  t  g  ...  c  t  a  a  c  a  a  a  c  t  c     +\n",
      "4  t  c  g  a  t  a  a  t  t  a  a  c  ...  c  t  c  c  g  t  g  g  t  a  g     +\n",
      "\n",
      "[5 rows x 58 columns]\n"
     ]
    }
   ],
   "source": [
    "# for clarity, lets rename the last dataframe column to class\n",
    "df.rename(columns = {57: 'Class'}, inplace = True) \n",
    "print(df.iloc[:5])"
   ]
  },
  {
   "cell_type": "code",
   "execution_count": 0,
   "metadata": {
    "colab": {
     "base_uri": "https://localhost:8080/",
     "height": 193
    },
    "colab_type": "code",
    "id": "BPwiols1MgE1",
    "outputId": "2e884304-6830-48ec-f56c-8d3fb726bd91"
   },
   "outputs": [
    {
     "data": {
      "text/html": [
       "<div>\n",
       "<style scoped>\n",
       "    .dataframe tbody tr th:only-of-type {\n",
       "        vertical-align: middle;\n",
       "    }\n",
       "\n",
       "    .dataframe tbody tr th {\n",
       "        vertical-align: top;\n",
       "    }\n",
       "\n",
       "    .dataframe thead th {\n",
       "        text-align: right;\n",
       "    }\n",
       "</style>\n",
       "<table border=\"1\" class=\"dataframe\">\n",
       "  <thead>\n",
       "    <tr style=\"text-align: right;\">\n",
       "      <th></th>\n",
       "      <th>0</th>\n",
       "      <th>1</th>\n",
       "      <th>2</th>\n",
       "      <th>3</th>\n",
       "      <th>4</th>\n",
       "      <th>5</th>\n",
       "      <th>6</th>\n",
       "      <th>7</th>\n",
       "      <th>8</th>\n",
       "      <th>9</th>\n",
       "      <th>10</th>\n",
       "      <th>11</th>\n",
       "      <th>12</th>\n",
       "      <th>13</th>\n",
       "      <th>14</th>\n",
       "      <th>15</th>\n",
       "      <th>16</th>\n",
       "      <th>17</th>\n",
       "      <th>18</th>\n",
       "      <th>19</th>\n",
       "      <th>20</th>\n",
       "      <th>21</th>\n",
       "      <th>22</th>\n",
       "      <th>23</th>\n",
       "      <th>24</th>\n",
       "      <th>25</th>\n",
       "      <th>26</th>\n",
       "      <th>27</th>\n",
       "      <th>28</th>\n",
       "      <th>29</th>\n",
       "      <th>30</th>\n",
       "      <th>31</th>\n",
       "      <th>32</th>\n",
       "      <th>33</th>\n",
       "      <th>34</th>\n",
       "      <th>35</th>\n",
       "      <th>36</th>\n",
       "      <th>37</th>\n",
       "      <th>38</th>\n",
       "      <th>39</th>\n",
       "      <th>40</th>\n",
       "      <th>41</th>\n",
       "      <th>42</th>\n",
       "      <th>43</th>\n",
       "      <th>44</th>\n",
       "      <th>45</th>\n",
       "      <th>46</th>\n",
       "      <th>47</th>\n",
       "      <th>48</th>\n",
       "      <th>49</th>\n",
       "      <th>50</th>\n",
       "      <th>51</th>\n",
       "      <th>52</th>\n",
       "      <th>53</th>\n",
       "      <th>54</th>\n",
       "      <th>55</th>\n",
       "      <th>56</th>\n",
       "      <th>Class</th>\n",
       "    </tr>\n",
       "  </thead>\n",
       "  <tbody>\n",
       "    <tr>\n",
       "      <th>count</th>\n",
       "      <td>106</td>\n",
       "      <td>106</td>\n",
       "      <td>106</td>\n",
       "      <td>106</td>\n",
       "      <td>106</td>\n",
       "      <td>106</td>\n",
       "      <td>106</td>\n",
       "      <td>106</td>\n",
       "      <td>106</td>\n",
       "      <td>106</td>\n",
       "      <td>106</td>\n",
       "      <td>106</td>\n",
       "      <td>106</td>\n",
       "      <td>106</td>\n",
       "      <td>106</td>\n",
       "      <td>106</td>\n",
       "      <td>106</td>\n",
       "      <td>106</td>\n",
       "      <td>106</td>\n",
       "      <td>106</td>\n",
       "      <td>106</td>\n",
       "      <td>106</td>\n",
       "      <td>106</td>\n",
       "      <td>106</td>\n",
       "      <td>106</td>\n",
       "      <td>106</td>\n",
       "      <td>106</td>\n",
       "      <td>106</td>\n",
       "      <td>106</td>\n",
       "      <td>106</td>\n",
       "      <td>106</td>\n",
       "      <td>106</td>\n",
       "      <td>106</td>\n",
       "      <td>106</td>\n",
       "      <td>106</td>\n",
       "      <td>106</td>\n",
       "      <td>106</td>\n",
       "      <td>106</td>\n",
       "      <td>106</td>\n",
       "      <td>106</td>\n",
       "      <td>106</td>\n",
       "      <td>106</td>\n",
       "      <td>106</td>\n",
       "      <td>106</td>\n",
       "      <td>106</td>\n",
       "      <td>106</td>\n",
       "      <td>106</td>\n",
       "      <td>106</td>\n",
       "      <td>106</td>\n",
       "      <td>106</td>\n",
       "      <td>106</td>\n",
       "      <td>106</td>\n",
       "      <td>106</td>\n",
       "      <td>106</td>\n",
       "      <td>106</td>\n",
       "      <td>106</td>\n",
       "      <td>106</td>\n",
       "      <td>106</td>\n",
       "    </tr>\n",
       "    <tr>\n",
       "      <th>unique</th>\n",
       "      <td>4</td>\n",
       "      <td>4</td>\n",
       "      <td>4</td>\n",
       "      <td>4</td>\n",
       "      <td>4</td>\n",
       "      <td>4</td>\n",
       "      <td>4</td>\n",
       "      <td>4</td>\n",
       "      <td>4</td>\n",
       "      <td>4</td>\n",
       "      <td>4</td>\n",
       "      <td>4</td>\n",
       "      <td>4</td>\n",
       "      <td>4</td>\n",
       "      <td>4</td>\n",
       "      <td>4</td>\n",
       "      <td>4</td>\n",
       "      <td>4</td>\n",
       "      <td>4</td>\n",
       "      <td>4</td>\n",
       "      <td>4</td>\n",
       "      <td>4</td>\n",
       "      <td>4</td>\n",
       "      <td>4</td>\n",
       "      <td>4</td>\n",
       "      <td>4</td>\n",
       "      <td>4</td>\n",
       "      <td>4</td>\n",
       "      <td>4</td>\n",
       "      <td>4</td>\n",
       "      <td>4</td>\n",
       "      <td>4</td>\n",
       "      <td>4</td>\n",
       "      <td>4</td>\n",
       "      <td>4</td>\n",
       "      <td>4</td>\n",
       "      <td>4</td>\n",
       "      <td>4</td>\n",
       "      <td>4</td>\n",
       "      <td>4</td>\n",
       "      <td>4</td>\n",
       "      <td>4</td>\n",
       "      <td>4</td>\n",
       "      <td>4</td>\n",
       "      <td>4</td>\n",
       "      <td>4</td>\n",
       "      <td>4</td>\n",
       "      <td>4</td>\n",
       "      <td>4</td>\n",
       "      <td>4</td>\n",
       "      <td>4</td>\n",
       "      <td>4</td>\n",
       "      <td>4</td>\n",
       "      <td>4</td>\n",
       "      <td>4</td>\n",
       "      <td>4</td>\n",
       "      <td>4</td>\n",
       "      <td>2</td>\n",
       "    </tr>\n",
       "    <tr>\n",
       "      <th>top</th>\n",
       "      <td>t</td>\n",
       "      <td>a</td>\n",
       "      <td>a</td>\n",
       "      <td>c</td>\n",
       "      <td>a</td>\n",
       "      <td>a</td>\n",
       "      <td>a</td>\n",
       "      <td>a</td>\n",
       "      <td>a</td>\n",
       "      <td>a</td>\n",
       "      <td>a</td>\n",
       "      <td>c</td>\n",
       "      <td>t</td>\n",
       "      <td>c</td>\n",
       "      <td>t</td>\n",
       "      <td>t</td>\n",
       "      <td>g</td>\n",
       "      <td>a</td>\n",
       "      <td>c</td>\n",
       "      <td>a</td>\n",
       "      <td>t</td>\n",
       "      <td>a</td>\n",
       "      <td>g</td>\n",
       "      <td>t</td>\n",
       "      <td>t</td>\n",
       "      <td>g</td>\n",
       "      <td>g</td>\n",
       "      <td>t</td>\n",
       "      <td>t</td>\n",
       "      <td>a</td>\n",
       "      <td>a</td>\n",
       "      <td>a</td>\n",
       "      <td>t</td>\n",
       "      <td>t</td>\n",
       "      <td>a</td>\n",
       "      <td>t</td>\n",
       "      <td>t</td>\n",
       "      <td>t</td>\n",
       "      <td>t</td>\n",
       "      <td>a</td>\n",
       "      <td>a</td>\n",
       "      <td>t</td>\n",
       "      <td>t</td>\n",
       "      <td>t</td>\n",
       "      <td>g</td>\n",
       "      <td>c</td>\n",
       "      <td>c</td>\n",
       "      <td>c</td>\n",
       "      <td>c</td>\n",
       "      <td>c</td>\n",
       "      <td>c</td>\n",
       "      <td>t</td>\n",
       "      <td>t</td>\n",
       "      <td>c</td>\n",
       "      <td>c</td>\n",
       "      <td>c</td>\n",
       "      <td>t</td>\n",
       "      <td>-</td>\n",
       "    </tr>\n",
       "    <tr>\n",
       "      <th>freq</th>\n",
       "      <td>38</td>\n",
       "      <td>34</td>\n",
       "      <td>30</td>\n",
       "      <td>30</td>\n",
       "      <td>36</td>\n",
       "      <td>42</td>\n",
       "      <td>38</td>\n",
       "      <td>34</td>\n",
       "      <td>33</td>\n",
       "      <td>36</td>\n",
       "      <td>38</td>\n",
       "      <td>31</td>\n",
       "      <td>34</td>\n",
       "      <td>38</td>\n",
       "      <td>54</td>\n",
       "      <td>54</td>\n",
       "      <td>53</td>\n",
       "      <td>40</td>\n",
       "      <td>44</td>\n",
       "      <td>31</td>\n",
       "      <td>34</td>\n",
       "      <td>31</td>\n",
       "      <td>30</td>\n",
       "      <td>32</td>\n",
       "      <td>32</td>\n",
       "      <td>34</td>\n",
       "      <td>29</td>\n",
       "      <td>32</td>\n",
       "      <td>35</td>\n",
       "      <td>35</td>\n",
       "      <td>37</td>\n",
       "      <td>31</td>\n",
       "      <td>41</td>\n",
       "      <td>39</td>\n",
       "      <td>27</td>\n",
       "      <td>34</td>\n",
       "      <td>43</td>\n",
       "      <td>32</td>\n",
       "      <td>35</td>\n",
       "      <td>45</td>\n",
       "      <td>41</td>\n",
       "      <td>33</td>\n",
       "      <td>42</td>\n",
       "      <td>36</td>\n",
       "      <td>34</td>\n",
       "      <td>35</td>\n",
       "      <td>31</td>\n",
       "      <td>32</td>\n",
       "      <td>36</td>\n",
       "      <td>42</td>\n",
       "      <td>31</td>\n",
       "      <td>33</td>\n",
       "      <td>35</td>\n",
       "      <td>32</td>\n",
       "      <td>29</td>\n",
       "      <td>29</td>\n",
       "      <td>34</td>\n",
       "      <td>53</td>\n",
       "    </tr>\n",
       "  </tbody>\n",
       "</table>\n",
       "</div>"
      ],
      "text/plain": [
       "          0    1    2    3    4    5    6  ...   51   52   53   54   55   56 Class\n",
       "count   106  106  106  106  106  106  106  ...  106  106  106  106  106  106   106\n",
       "unique    4    4    4    4    4    4    4  ...    4    4    4    4    4    4     2\n",
       "top       t    a    a    c    a    a    a  ...    t    t    c    c    c    t     -\n",
       "freq     38   34   30   30   36   42   38  ...   33   35   32   29   29   34    53\n",
       "\n",
       "[4 rows x 58 columns]"
      ]
     },
     "execution_count": 49,
     "metadata": {
      "tags": []
     },
     "output_type": "execute_result"
    }
   ],
   "source": [
    "# looks good! Let's start to familiarize ourselves with the dataset so we can pick the most suitable \n",
    "# algorithms for this data\n",
    "\n",
    "df.describe()"
   ]
  },
  {
   "cell_type": "markdown",
   "metadata": {
    "colab_type": "text",
    "id": "x7uvMe-se9n2"
   },
   "source": [
    "Le tableau suivant nous indique des statistiques sur nos données, nous pouvons appercevoir le nombre de séquence unique. \n",
    "\n",
    "Il y'a 4 base unique par séquence. a, c, t et g. \n",
    "\n",
    "La nucléotide t est le plus fréquents "
   ]
  },
  {
   "cell_type": "code",
   "execution_count": 0,
   "metadata": {
    "colab": {
     "base_uri": "https://localhost:8080/",
     "height": 170
    },
    "colab_type": "code",
    "id": "BTe5g6MsMhtf",
    "outputId": "f96c5fb8-c256-4f32-c2bb-afccf5e2265e"
   },
   "outputs": [
    {
     "name": "stdout",
     "output_type": "stream",
     "text": [
      "      0     1     2     3     4     5  ...    52    53    54    55    56  Class\n",
      "t  38.0  26.0  27.0  26.0  22.0  24.0  ...  35.0  30.0  23.0  29.0  34.0    NaN\n",
      "c  27.0  22.0  21.0  30.0  19.0  18.0  ...  21.0  32.0  29.0  29.0  17.0    NaN\n",
      "a  26.0  34.0  30.0  22.0  36.0  42.0  ...  25.0  22.0  26.0  24.0  27.0    NaN\n",
      "g  15.0  24.0  28.0  28.0  29.0  22.0  ...  25.0  22.0  28.0  24.0  28.0    NaN\n",
      "-   NaN   NaN   NaN   NaN   NaN   NaN  ...   NaN   NaN   NaN   NaN   NaN   53.0\n",
      "+   NaN   NaN   NaN   NaN   NaN   NaN  ...   NaN   NaN   NaN   NaN   NaN   53.0\n",
      "\n",
      "[6 rows x 58 columns]\n"
     ]
    }
   ],
   "source": [
    "# desribe does not tell us enough information since the attributes are text. Lets record value counts for each sequence\n",
    "series = []\n",
    "for name in df.columns:\n",
    "    series.append(df[name].value_counts())\n",
    "    \n",
    "info = pd.DataFrame(series)\n",
    "details = info.transpose()\n",
    "print(details)"
   ]
  },
  {
   "cell_type": "markdown",
   "metadata": {
    "colab_type": "text",
    "id": "JdBLN5XdgIY7"
   },
   "source": [
    "On compte le nombre d'occurence il y'a par base. On le fait pour chaque séquence d'ADN de notre dataset."
   ]
  },
  {
   "cell_type": "code",
   "execution_count": 0,
   "metadata": {
    "colab": {
     "base_uri": "https://localhost:8080/",
     "height": 253
    },
    "colab_type": "code",
    "id": "rICFitPPMjvz",
    "outputId": "cc4c0064-96ef-4532-c823-a64089c71420"
   },
   "outputs": [
    {
     "data": {
      "text/html": [
       "<div>\n",
       "<style scoped>\n",
       "    .dataframe tbody tr th:only-of-type {\n",
       "        vertical-align: middle;\n",
       "    }\n",
       "\n",
       "    .dataframe tbody tr th {\n",
       "        vertical-align: top;\n",
       "    }\n",
       "\n",
       "    .dataframe thead th {\n",
       "        text-align: right;\n",
       "    }\n",
       "</style>\n",
       "<table border=\"1\" class=\"dataframe\">\n",
       "  <thead>\n",
       "    <tr style=\"text-align: right;\">\n",
       "      <th></th>\n",
       "      <th>0_a</th>\n",
       "      <th>0_c</th>\n",
       "      <th>0_g</th>\n",
       "      <th>0_t</th>\n",
       "      <th>1_a</th>\n",
       "      <th>1_c</th>\n",
       "      <th>1_g</th>\n",
       "      <th>1_t</th>\n",
       "      <th>2_a</th>\n",
       "      <th>2_c</th>\n",
       "      <th>2_g</th>\n",
       "      <th>2_t</th>\n",
       "      <th>3_a</th>\n",
       "      <th>3_c</th>\n",
       "      <th>3_g</th>\n",
       "      <th>3_t</th>\n",
       "      <th>4_a</th>\n",
       "      <th>4_c</th>\n",
       "      <th>4_g</th>\n",
       "      <th>4_t</th>\n",
       "      <th>5_a</th>\n",
       "      <th>5_c</th>\n",
       "      <th>5_g</th>\n",
       "      <th>5_t</th>\n",
       "      <th>6_a</th>\n",
       "      <th>6_c</th>\n",
       "      <th>6_g</th>\n",
       "      <th>6_t</th>\n",
       "      <th>7_a</th>\n",
       "      <th>7_c</th>\n",
       "      <th>7_g</th>\n",
       "      <th>7_t</th>\n",
       "      <th>8_a</th>\n",
       "      <th>8_c</th>\n",
       "      <th>8_g</th>\n",
       "      <th>8_t</th>\n",
       "      <th>9_a</th>\n",
       "      <th>9_c</th>\n",
       "      <th>9_g</th>\n",
       "      <th>9_t</th>\n",
       "      <th>...</th>\n",
       "      <th>47_g</th>\n",
       "      <th>47_t</th>\n",
       "      <th>48_a</th>\n",
       "      <th>48_c</th>\n",
       "      <th>48_g</th>\n",
       "      <th>48_t</th>\n",
       "      <th>49_a</th>\n",
       "      <th>49_c</th>\n",
       "      <th>49_g</th>\n",
       "      <th>49_t</th>\n",
       "      <th>50_a</th>\n",
       "      <th>50_c</th>\n",
       "      <th>50_g</th>\n",
       "      <th>50_t</th>\n",
       "      <th>51_a</th>\n",
       "      <th>51_c</th>\n",
       "      <th>51_g</th>\n",
       "      <th>51_t</th>\n",
       "      <th>52_a</th>\n",
       "      <th>52_c</th>\n",
       "      <th>52_g</th>\n",
       "      <th>52_t</th>\n",
       "      <th>53_a</th>\n",
       "      <th>53_c</th>\n",
       "      <th>53_g</th>\n",
       "      <th>53_t</th>\n",
       "      <th>54_a</th>\n",
       "      <th>54_c</th>\n",
       "      <th>54_g</th>\n",
       "      <th>54_t</th>\n",
       "      <th>55_a</th>\n",
       "      <th>55_c</th>\n",
       "      <th>55_g</th>\n",
       "      <th>55_t</th>\n",
       "      <th>56_a</th>\n",
       "      <th>56_c</th>\n",
       "      <th>56_g</th>\n",
       "      <th>56_t</th>\n",
       "      <th>Class_+</th>\n",
       "      <th>Class_-</th>\n",
       "    </tr>\n",
       "  </thead>\n",
       "  <tbody>\n",
       "    <tr>\n",
       "      <th>0</th>\n",
       "      <td>0</td>\n",
       "      <td>0</td>\n",
       "      <td>0</td>\n",
       "      <td>1</td>\n",
       "      <td>1</td>\n",
       "      <td>0</td>\n",
       "      <td>0</td>\n",
       "      <td>0</td>\n",
       "      <td>0</td>\n",
       "      <td>1</td>\n",
       "      <td>0</td>\n",
       "      <td>0</td>\n",
       "      <td>0</td>\n",
       "      <td>0</td>\n",
       "      <td>0</td>\n",
       "      <td>1</td>\n",
       "      <td>1</td>\n",
       "      <td>0</td>\n",
       "      <td>0</td>\n",
       "      <td>0</td>\n",
       "      <td>0</td>\n",
       "      <td>0</td>\n",
       "      <td>1</td>\n",
       "      <td>0</td>\n",
       "      <td>0</td>\n",
       "      <td>1</td>\n",
       "      <td>0</td>\n",
       "      <td>0</td>\n",
       "      <td>1</td>\n",
       "      <td>0</td>\n",
       "      <td>0</td>\n",
       "      <td>0</td>\n",
       "      <td>1</td>\n",
       "      <td>0</td>\n",
       "      <td>0</td>\n",
       "      <td>0</td>\n",
       "      <td>0</td>\n",
       "      <td>0</td>\n",
       "      <td>0</td>\n",
       "      <td>1</td>\n",
       "      <td>...</td>\n",
       "      <td>1</td>\n",
       "      <td>0</td>\n",
       "      <td>0</td>\n",
       "      <td>0</td>\n",
       "      <td>1</td>\n",
       "      <td>0</td>\n",
       "      <td>0</td>\n",
       "      <td>1</td>\n",
       "      <td>0</td>\n",
       "      <td>0</td>\n",
       "      <td>0</td>\n",
       "      <td>0</td>\n",
       "      <td>0</td>\n",
       "      <td>1</td>\n",
       "      <td>0</td>\n",
       "      <td>0</td>\n",
       "      <td>0</td>\n",
       "      <td>1</td>\n",
       "      <td>0</td>\n",
       "      <td>0</td>\n",
       "      <td>1</td>\n",
       "      <td>0</td>\n",
       "      <td>0</td>\n",
       "      <td>0</td>\n",
       "      <td>0</td>\n",
       "      <td>1</td>\n",
       "      <td>0</td>\n",
       "      <td>1</td>\n",
       "      <td>0</td>\n",
       "      <td>0</td>\n",
       "      <td>0</td>\n",
       "      <td>0</td>\n",
       "      <td>1</td>\n",
       "      <td>0</td>\n",
       "      <td>0</td>\n",
       "      <td>0</td>\n",
       "      <td>0</td>\n",
       "      <td>1</td>\n",
       "      <td>1</td>\n",
       "      <td>0</td>\n",
       "    </tr>\n",
       "    <tr>\n",
       "      <th>1</th>\n",
       "      <td>0</td>\n",
       "      <td>0</td>\n",
       "      <td>0</td>\n",
       "      <td>1</td>\n",
       "      <td>0</td>\n",
       "      <td>0</td>\n",
       "      <td>1</td>\n",
       "      <td>0</td>\n",
       "      <td>0</td>\n",
       "      <td>1</td>\n",
       "      <td>0</td>\n",
       "      <td>0</td>\n",
       "      <td>0</td>\n",
       "      <td>0</td>\n",
       "      <td>0</td>\n",
       "      <td>1</td>\n",
       "      <td>1</td>\n",
       "      <td>0</td>\n",
       "      <td>0</td>\n",
       "      <td>0</td>\n",
       "      <td>0</td>\n",
       "      <td>0</td>\n",
       "      <td>0</td>\n",
       "      <td>1</td>\n",
       "      <td>0</td>\n",
       "      <td>1</td>\n",
       "      <td>0</td>\n",
       "      <td>0</td>\n",
       "      <td>0</td>\n",
       "      <td>1</td>\n",
       "      <td>0</td>\n",
       "      <td>0</td>\n",
       "      <td>0</td>\n",
       "      <td>0</td>\n",
       "      <td>0</td>\n",
       "      <td>1</td>\n",
       "      <td>0</td>\n",
       "      <td>0</td>\n",
       "      <td>1</td>\n",
       "      <td>0</td>\n",
       "      <td>...</td>\n",
       "      <td>1</td>\n",
       "      <td>0</td>\n",
       "      <td>0</td>\n",
       "      <td>1</td>\n",
       "      <td>0</td>\n",
       "      <td>0</td>\n",
       "      <td>1</td>\n",
       "      <td>0</td>\n",
       "      <td>0</td>\n",
       "      <td>0</td>\n",
       "      <td>0</td>\n",
       "      <td>0</td>\n",
       "      <td>0</td>\n",
       "      <td>1</td>\n",
       "      <td>0</td>\n",
       "      <td>1</td>\n",
       "      <td>0</td>\n",
       "      <td>0</td>\n",
       "      <td>0</td>\n",
       "      <td>0</td>\n",
       "      <td>1</td>\n",
       "      <td>0</td>\n",
       "      <td>0</td>\n",
       "      <td>1</td>\n",
       "      <td>0</td>\n",
       "      <td>0</td>\n",
       "      <td>0</td>\n",
       "      <td>1</td>\n",
       "      <td>0</td>\n",
       "      <td>0</td>\n",
       "      <td>1</td>\n",
       "      <td>0</td>\n",
       "      <td>0</td>\n",
       "      <td>0</td>\n",
       "      <td>1</td>\n",
       "      <td>0</td>\n",
       "      <td>0</td>\n",
       "      <td>0</td>\n",
       "      <td>1</td>\n",
       "      <td>0</td>\n",
       "    </tr>\n",
       "    <tr>\n",
       "      <th>2</th>\n",
       "      <td>0</td>\n",
       "      <td>0</td>\n",
       "      <td>1</td>\n",
       "      <td>0</td>\n",
       "      <td>0</td>\n",
       "      <td>0</td>\n",
       "      <td>0</td>\n",
       "      <td>1</td>\n",
       "      <td>1</td>\n",
       "      <td>0</td>\n",
       "      <td>0</td>\n",
       "      <td>0</td>\n",
       "      <td>0</td>\n",
       "      <td>1</td>\n",
       "      <td>0</td>\n",
       "      <td>0</td>\n",
       "      <td>0</td>\n",
       "      <td>0</td>\n",
       "      <td>0</td>\n",
       "      <td>1</td>\n",
       "      <td>1</td>\n",
       "      <td>0</td>\n",
       "      <td>0</td>\n",
       "      <td>0</td>\n",
       "      <td>0</td>\n",
       "      <td>0</td>\n",
       "      <td>1</td>\n",
       "      <td>0</td>\n",
       "      <td>1</td>\n",
       "      <td>0</td>\n",
       "      <td>0</td>\n",
       "      <td>0</td>\n",
       "      <td>0</td>\n",
       "      <td>0</td>\n",
       "      <td>1</td>\n",
       "      <td>0</td>\n",
       "      <td>1</td>\n",
       "      <td>0</td>\n",
       "      <td>0</td>\n",
       "      <td>0</td>\n",
       "      <td>...</td>\n",
       "      <td>0</td>\n",
       "      <td>0</td>\n",
       "      <td>0</td>\n",
       "      <td>1</td>\n",
       "      <td>0</td>\n",
       "      <td>0</td>\n",
       "      <td>1</td>\n",
       "      <td>0</td>\n",
       "      <td>0</td>\n",
       "      <td>0</td>\n",
       "      <td>0</td>\n",
       "      <td>1</td>\n",
       "      <td>0</td>\n",
       "      <td>0</td>\n",
       "      <td>0</td>\n",
       "      <td>1</td>\n",
       "      <td>0</td>\n",
       "      <td>0</td>\n",
       "      <td>0</td>\n",
       "      <td>1</td>\n",
       "      <td>0</td>\n",
       "      <td>0</td>\n",
       "      <td>0</td>\n",
       "      <td>0</td>\n",
       "      <td>1</td>\n",
       "      <td>0</td>\n",
       "      <td>0</td>\n",
       "      <td>0</td>\n",
       "      <td>1</td>\n",
       "      <td>0</td>\n",
       "      <td>0</td>\n",
       "      <td>1</td>\n",
       "      <td>0</td>\n",
       "      <td>0</td>\n",
       "      <td>0</td>\n",
       "      <td>0</td>\n",
       "      <td>1</td>\n",
       "      <td>0</td>\n",
       "      <td>1</td>\n",
       "      <td>0</td>\n",
       "    </tr>\n",
       "    <tr>\n",
       "      <th>3</th>\n",
       "      <td>1</td>\n",
       "      <td>0</td>\n",
       "      <td>0</td>\n",
       "      <td>0</td>\n",
       "      <td>1</td>\n",
       "      <td>0</td>\n",
       "      <td>0</td>\n",
       "      <td>0</td>\n",
       "      <td>0</td>\n",
       "      <td>0</td>\n",
       "      <td>0</td>\n",
       "      <td>1</td>\n",
       "      <td>0</td>\n",
       "      <td>0</td>\n",
       "      <td>0</td>\n",
       "      <td>1</td>\n",
       "      <td>0</td>\n",
       "      <td>0</td>\n",
       "      <td>1</td>\n",
       "      <td>0</td>\n",
       "      <td>0</td>\n",
       "      <td>0</td>\n",
       "      <td>0</td>\n",
       "      <td>1</td>\n",
       "      <td>0</td>\n",
       "      <td>0</td>\n",
       "      <td>1</td>\n",
       "      <td>0</td>\n",
       "      <td>1</td>\n",
       "      <td>0</td>\n",
       "      <td>0</td>\n",
       "      <td>0</td>\n",
       "      <td>0</td>\n",
       "      <td>0</td>\n",
       "      <td>0</td>\n",
       "      <td>1</td>\n",
       "      <td>0</td>\n",
       "      <td>0</td>\n",
       "      <td>1</td>\n",
       "      <td>0</td>\n",
       "      <td>...</td>\n",
       "      <td>0</td>\n",
       "      <td>1</td>\n",
       "      <td>1</td>\n",
       "      <td>0</td>\n",
       "      <td>0</td>\n",
       "      <td>0</td>\n",
       "      <td>1</td>\n",
       "      <td>0</td>\n",
       "      <td>0</td>\n",
       "      <td>0</td>\n",
       "      <td>0</td>\n",
       "      <td>1</td>\n",
       "      <td>0</td>\n",
       "      <td>0</td>\n",
       "      <td>1</td>\n",
       "      <td>0</td>\n",
       "      <td>0</td>\n",
       "      <td>0</td>\n",
       "      <td>1</td>\n",
       "      <td>0</td>\n",
       "      <td>0</td>\n",
       "      <td>0</td>\n",
       "      <td>1</td>\n",
       "      <td>0</td>\n",
       "      <td>0</td>\n",
       "      <td>0</td>\n",
       "      <td>0</td>\n",
       "      <td>1</td>\n",
       "      <td>0</td>\n",
       "      <td>0</td>\n",
       "      <td>0</td>\n",
       "      <td>0</td>\n",
       "      <td>0</td>\n",
       "      <td>1</td>\n",
       "      <td>0</td>\n",
       "      <td>1</td>\n",
       "      <td>0</td>\n",
       "      <td>0</td>\n",
       "      <td>1</td>\n",
       "      <td>0</td>\n",
       "    </tr>\n",
       "    <tr>\n",
       "      <th>4</th>\n",
       "      <td>0</td>\n",
       "      <td>0</td>\n",
       "      <td>0</td>\n",
       "      <td>1</td>\n",
       "      <td>0</td>\n",
       "      <td>1</td>\n",
       "      <td>0</td>\n",
       "      <td>0</td>\n",
       "      <td>0</td>\n",
       "      <td>0</td>\n",
       "      <td>1</td>\n",
       "      <td>0</td>\n",
       "      <td>1</td>\n",
       "      <td>0</td>\n",
       "      <td>0</td>\n",
       "      <td>0</td>\n",
       "      <td>0</td>\n",
       "      <td>0</td>\n",
       "      <td>0</td>\n",
       "      <td>1</td>\n",
       "      <td>1</td>\n",
       "      <td>0</td>\n",
       "      <td>0</td>\n",
       "      <td>0</td>\n",
       "      <td>1</td>\n",
       "      <td>0</td>\n",
       "      <td>0</td>\n",
       "      <td>0</td>\n",
       "      <td>0</td>\n",
       "      <td>0</td>\n",
       "      <td>0</td>\n",
       "      <td>1</td>\n",
       "      <td>0</td>\n",
       "      <td>0</td>\n",
       "      <td>0</td>\n",
       "      <td>1</td>\n",
       "      <td>1</td>\n",
       "      <td>0</td>\n",
       "      <td>0</td>\n",
       "      <td>0</td>\n",
       "      <td>...</td>\n",
       "      <td>0</td>\n",
       "      <td>1</td>\n",
       "      <td>0</td>\n",
       "      <td>1</td>\n",
       "      <td>0</td>\n",
       "      <td>0</td>\n",
       "      <td>0</td>\n",
       "      <td>1</td>\n",
       "      <td>0</td>\n",
       "      <td>0</td>\n",
       "      <td>0</td>\n",
       "      <td>0</td>\n",
       "      <td>1</td>\n",
       "      <td>0</td>\n",
       "      <td>0</td>\n",
       "      <td>0</td>\n",
       "      <td>0</td>\n",
       "      <td>1</td>\n",
       "      <td>0</td>\n",
       "      <td>0</td>\n",
       "      <td>1</td>\n",
       "      <td>0</td>\n",
       "      <td>0</td>\n",
       "      <td>0</td>\n",
       "      <td>1</td>\n",
       "      <td>0</td>\n",
       "      <td>0</td>\n",
       "      <td>0</td>\n",
       "      <td>0</td>\n",
       "      <td>1</td>\n",
       "      <td>1</td>\n",
       "      <td>0</td>\n",
       "      <td>0</td>\n",
       "      <td>0</td>\n",
       "      <td>0</td>\n",
       "      <td>0</td>\n",
       "      <td>1</td>\n",
       "      <td>0</td>\n",
       "      <td>1</td>\n",
       "      <td>0</td>\n",
       "    </tr>\n",
       "  </tbody>\n",
       "</table>\n",
       "<p>5 rows × 230 columns</p>\n",
       "</div>"
      ],
      "text/plain": [
       "   0_a  0_c  0_g  0_t  1_a  1_c  ...  56_a  56_c  56_g  56_t  Class_+  Class_-\n",
       "0    0    0    0    1    1    0  ...     0     0     0     1        1        0\n",
       "1    0    0    0    1    0    0  ...     1     0     0     0        1        0\n",
       "2    0    0    1    0    0    0  ...     0     0     1     0        1        0\n",
       "3    1    0    0    0    1    0  ...     0     1     0     0        1        0\n",
       "4    0    0    0    1    0    1  ...     0     0     1     0        1        0\n",
       "\n",
       "[5 rows x 230 columns]"
      ]
     },
     "execution_count": 51,
     "metadata": {
      "tags": []
     },
     "output_type": "execute_result"
    }
   ],
   "source": [
    "# Unfortunately, we can't run machine learning algorithms on the data in 'String' formats. As a result, we need to switch\n",
    "# it to numerical data. This can easily be accomplished using the pd.get_dummies() function\n",
    "numerical_df = pd.get_dummies(df)\n",
    "numerical_df.iloc[:5]"
   ]
  },
  {
   "cell_type": "markdown",
   "metadata": {
    "colab_type": "text",
    "id": "XDLd-DE6g0yy"
   },
   "source": [
    "A present il faut convertir les données dans un format dans lequel on pourra appliqué du machine learning. Le format d'entrée est convertir en un vecteur de 0 et 1. "
   ]
  },
  {
   "cell_type": "code",
   "execution_count": 0,
   "metadata": {
    "colab": {
     "base_uri": "https://localhost:8080/",
     "height": 153
    },
    "colab_type": "code",
    "id": "soU-qgqmMmKg",
    "outputId": "bd5ac8ee-e417-45e7-bf0a-84f16d514581"
   },
   "outputs": [
    {
     "name": "stdout",
     "output_type": "stream",
     "text": [
      "   0_a  0_c  0_g  0_t  1_a  1_c  1_g  ...  55_g  55_t  56_a  56_c  56_g  56_t  Class\n",
      "0    0    0    0    1    1    0    0  ...     1     0     0     0     0     1      1\n",
      "1    0    0    0    1    0    0    1  ...     0     0     1     0     0     0      1\n",
      "2    0    0    1    0    0    0    0  ...     0     0     0     0     1     0      1\n",
      "3    1    0    0    0    1    0    0  ...     0     1     0     1     0     0      1\n",
      "4    0    0    0    1    0    1    0  ...     0     0     0     0     1     0      1\n",
      "\n",
      "[5 rows x 229 columns]\n"
     ]
    }
   ],
   "source": [
    "# We don't need both class columns.  Lets drop one then rename the other to simply 'Class'.\n",
    "df = numerical_df.drop(columns=['Class_-'])\n",
    "\n",
    "df.rename(columns = {'Class_+': 'Class'}, inplace = True)\n",
    "print(df.iloc[:5])"
   ]
  },
  {
   "cell_type": "code",
   "execution_count": 0,
   "metadata": {
    "colab": {
     "base_uri": "https://localhost:8080/",
     "height": 266
    },
    "colab_type": "code",
    "id": "6PfdCDuzo--2",
    "outputId": "93de5481-2a2d-4b1b-a602-1d4549f34c00"
   },
   "outputs": [
    {
     "data": {
      "image/png": "[encoded data removed]",
      "text/plain": [
       "<Figure size 432x288 with 1 Axes>"
      ]
     },
     "metadata": {
      "needs_background": "light",
      "tags": []
     },
     "output_type": "display_data"
    }
   ],
   "source": [
    "pd.DataFrame(df.iloc[:2]).T.plot()\n",
    "plt.show()"
   ]
  },
  {
   "cell_type": "code",
   "execution_count": 0,
   "metadata": {
    "colab": {},
    "colab_type": "code",
    "id": "02kTKVlIo-55"
   },
   "outputs": [],
   "source": []
  },
  {
   "cell_type": "markdown",
   "metadata": {
    "colab_type": "text",
    "id": "yLq0IotT27GF"
   },
   "source": [
    "# Training the model\n"
   ]
  },
  {
   "cell_type": "code",
   "execution_count": 0,
   "metadata": {
    "colab": {},
    "colab_type": "code",
    "id": "VNEGu66kMoDF"
   },
   "outputs": [],
   "source": [
    "# Use the model_selection module to separate training and testing datasets\n",
    "from sklearn import model_selection\n",
    "\n",
    "# Create X and Y datasets for training\n",
    "X = np.array(df.drop(['Class'], 1))\n",
    "y = np.array(df['Class'])\n",
    "\n",
    "# define seed for reproducibility\n",
    "seed = 1\n",
    "\n",
    "# split data into training and testing datasets\n",
    "X_train, X_test, y_train, y_test = model_selection.train_test_split(X, y, test_size=0.25, random_state=seed)"
   ]
  },
  {
   "cell_type": "markdown",
   "metadata": {
    "colab_type": "text",
    "id": "XntXQHar2_QH"
   },
   "source": [
    "# Testing\n",
    "\n",
    "\n",
    "Plotting result \n",
    "\n"
   ]
  },
  {
   "cell_type": "code",
   "execution_count": 0,
   "metadata": {
    "colab": {},
    "colab_type": "code",
    "id": "pX8TFJ-tOgyi"
   },
   "outputs": [],
   "source": [
    "\n",
    "from sklearn.decomposition import PCA\n",
    "\n",
    " \n",
    "import matplotlib.pyplot as plt\n",
    "from pandas.plotting import parallel_coordinates\n",
    "\n",
    "\n",
    "def plot(model, X_train, y_train):\n",
    "\n",
    "\n",
    "  X = X_train\n",
    "  y = y_train\n",
    "\n",
    "  moyenne = np.mean(X, axis=0)\n",
    "\n",
    "        #X = (X - X.min())/(X.max() - X.min())\n",
    "\n",
    "  pca = PCA(n_components=2)\n",
    "  pca.fit(X)\n",
    "  X = pca.transform(X)\n",
    "\n",
    "  x0 = np.array([x[0] for x in X])\n",
    "  x1 = np.array([x[1] for x in X])\n",
    "\n",
    "  x0_min, x0_max = x0.min() - 1, x0.max() + 1\n",
    "  x1_min, x1_max = x1.min() - 1, x1.max() + 1\n",
    "\n",
    "  h1 = x0_max-abs(x0_min)\n",
    "  h2 = x1_max-abs(x1_min)\n",
    "  f = 30\n",
    "\n",
    "\n",
    "  h1 = h1/f\n",
    "  h2 = h2/f\n",
    "  xx1, xx0 = np.meshgrid(np.arange(x0_min, x0_max, h1),np.arange(x1_min, x1_max, h2))\n",
    "\n",
    "  nComp = 2\n",
    "\n",
    "  XX = np.c_[xx1.ravel(), xx0.ravel()]\n",
    "\n",
    "  XX = np.dot(XX[:, :nComp], pca.components_[:nComp, :])\n",
    "\n",
    "  XX += moyenne\n",
    "\n",
    "\n",
    " \n",
    "  model.fit(X_train, y_train)\n",
    "#predictions = model.predict(X_test)\n",
    "  Z = model.predict(XX)\n",
    "  Z = Z.reshape(xx1.shape)\n",
    "\n",
    "  plt.contourf(xx1, xx0, Z, cmap=plt.cm.coolwarm, alpha=0.9)\n",
    "\n",
    "\n",
    "  plt.scatter(x0, x1, c=y, cmap=plt.cm.coolwarm, alpha=0.6)\n",
    "\n",
    "  plt.show()\n"
   ]
  },
  {
   "cell_type": "code",
   "execution_count": 0,
   "metadata": {
    "colab": {
     "base_uri": "https://localhost:8080/",
     "height": 1000
    },
    "colab_type": "code",
    "id": "Tij_pvc-MvhD",
    "outputId": "07519ee4-c372-440b-85bd-69decbe4101a"
   },
   "outputs": [
    {
     "name": "stderr",
     "output_type": "stream",
     "text": [
      "/usr/local/lib/python3.6/dist-packages/sklearn/model_selection/_split.py:296: FutureWarning: Setting a random_state has no effect since shuffle is False. This will raise an error in 0.24. You should leave random_state to its default (None), or set shuffle=True.\n",
      "  FutureWarning\n"
     ]
    },
    {
     "name": "stdout",
     "output_type": "stream",
     "text": [
      "Nearest Neighbors: 0.823214 (0.113908)\n"
     ]
    },
    {
     "data": {
      "image/png": "[encoded data removed]",
      "text/plain": [
       "<Figure size 432x288 with 1 Axes>"
      ]
     },
     "metadata": {
      "needs_background": "light",
      "tags": []
     },
     "output_type": "display_data"
    },
    {
     "name": "stdout",
     "output_type": "stream",
     "text": [
      "Test--  Nearest Neighbors :  0.7777777777777778\n",
      "\n",
      "              precision    recall  f1-score   support\n",
      "\n",
      "           0       1.00      0.65      0.79        17\n",
      "           1       0.62      1.00      0.77        10\n",
      "\n",
      "    accuracy                           0.78        27\n",
      "   macro avg       0.81      0.82      0.78        27\n",
      "weighted avg       0.86      0.78      0.78        27\n",
      "\n"
     ]
    },
    {
     "name": "stderr",
     "output_type": "stream",
     "text": [
      "/usr/local/lib/python3.6/dist-packages/sklearn/model_selection/_split.py:296: FutureWarning: Setting a random_state has no effect since shuffle is False. This will raise an error in 0.24. You should leave random_state to its default (None), or set shuffle=True.\n",
      "  FutureWarning\n"
     ]
    },
    {
     "name": "stdout",
     "output_type": "stream",
     "text": [
      "Gaussian Process: 0.873214 (0.056158)\n"
     ]
    },
    {
     "data": {
      "image/png": "[encoded data removed]",
      "text/plain": [
       "<Figure size 432x288 with 1 Axes>"
      ]
     },
     "metadata": {
      "needs_background": "light",
      "tags": []
     },
     "output_type": "display_data"
    },
    {
     "name": "stdout",
     "output_type": "stream",
     "text": [
      "Test--  Gaussian Process :  0.8888888888888888\n",
      "\n",
      "              precision    recall  f1-score   support\n",
      "\n",
      "           0       1.00      0.82      0.90        17\n",
      "           1       0.77      1.00      0.87        10\n",
      "\n",
      "    accuracy                           0.89        27\n",
      "   macro avg       0.88      0.91      0.89        27\n",
      "weighted avg       0.91      0.89      0.89        27\n",
      "\n",
      "Decision Tree: 0.710714 (0.229629)\n"
     ]
    },
    {
     "name": "stderr",
     "output_type": "stream",
     "text": [
      "/usr/local/lib/python3.6/dist-packages/sklearn/model_selection/_split.py:296: FutureWarning: Setting a random_state has no effect since shuffle is False. This will raise an error in 0.24. You should leave random_state to its default (None), or set shuffle=True.\n",
      "  FutureWarning\n"
     ]
    },
    {
     "data": {
      "image/png": "[encoded data removed]",
      "text/plain": [
       "<Figure size 432x288 with 1 Axes>"
      ]
     },
     "metadata": {
      "needs_background": "light",
      "tags": []
     },
     "output_type": "display_data"
    },
    {
     "name": "stdout",
     "output_type": "stream",
     "text": [
      "Test--  Decision Tree :  0.7777777777777778\n",
      "\n",
      "              precision    recall  f1-score   support\n",
      "\n",
      "           0       0.92      0.71      0.80        17\n",
      "           1       0.64      0.90      0.75        10\n",
      "\n",
      "    accuracy                           0.78        27\n",
      "   macro avg       0.78      0.80      0.78        27\n",
      "weighted avg       0.82      0.78      0.78        27\n",
      "\n",
      "Random Forest: 0.594643 (0.165802)\n"
     ]
    },
    {
     "name": "stderr",
     "output_type": "stream",
     "text": [
      "/usr/local/lib/python3.6/dist-packages/sklearn/model_selection/_split.py:296: FutureWarning: Setting a random_state has no effect since shuffle is False. This will raise an error in 0.24. You should leave random_state to its default (None), or set shuffle=True.\n",
      "  FutureWarning\n"
     ]
    },
    {
     "data": {
      "image/png": "[encoded data removed]",
      "text/plain": [
       "<Figure size 432x288 with 1 Axes>"
      ]
     },
     "metadata": {
      "needs_background": "light",
      "tags": []
     },
     "output_type": "display_data"
    },
    {
     "name": "stdout",
     "output_type": "stream",
     "text": [
      "Test--  Random Forest :  0.6296296296296297\n",
      "\n",
      "              precision    recall  f1-score   support\n",
      "\n",
      "           0       0.89      0.47      0.62        17\n",
      "           1       0.50      0.90      0.64        10\n",
      "\n",
      "    accuracy                           0.63        27\n",
      "   macro avg       0.69      0.69      0.63        27\n",
      "weighted avg       0.74      0.63      0.63        27\n",
      "\n"
     ]
    },
    {
     "name": "stderr",
     "output_type": "stream",
     "text": [
      "/usr/local/lib/python3.6/dist-packages/sklearn/model_selection/_split.py:296: FutureWarning: Setting a random_state has no effect since shuffle is False. This will raise an error in 0.24. You should leave random_state to its default (None), or set shuffle=True.\n",
      "  FutureWarning\n",
      "/usr/local/lib/python3.6/dist-packages/sklearn/neural_network/_multilayer_perceptron.py:571: ConvergenceWarning: Stochastic Optimizer: Maximum iterations (200) reached and the optimization hasn't converged yet.\n",
      "  % self.max_iter, ConvergenceWarning)\n",
      "/usr/local/lib/python3.6/dist-packages/sklearn/neural_network/_multilayer_perceptron.py:571: ConvergenceWarning: Stochastic Optimizer: Maximum iterations (200) reached and the optimization hasn't converged yet.\n",
      "  % self.max_iter, ConvergenceWarning)\n",
      "/usr/local/lib/python3.6/dist-packages/sklearn/neural_network/_multilayer_perceptron.py:571: ConvergenceWarning: Stochastic Optimizer: Maximum iterations (200) reached and the optimization hasn't converged yet.\n",
      "  % self.max_iter, ConvergenceWarning)\n",
      "/usr/local/lib/python3.6/dist-packages/sklearn/neural_network/_multilayer_perceptron.py:571: ConvergenceWarning: Stochastic Optimizer: Maximum iterations (200) reached and the optimization hasn't converged yet.\n",
      "  % self.max_iter, ConvergenceWarning)\n",
      "/usr/local/lib/python3.6/dist-packages/sklearn/neural_network/_multilayer_perceptron.py:571: ConvergenceWarning: Stochastic Optimizer: Maximum iterations (200) reached and the optimization hasn't converged yet.\n",
      "  % self.max_iter, ConvergenceWarning)\n",
      "/usr/local/lib/python3.6/dist-packages/sklearn/neural_network/_multilayer_perceptron.py:571: ConvergenceWarning: Stochastic Optimizer: Maximum iterations (200) reached and the optimization hasn't converged yet.\n",
      "  % self.max_iter, ConvergenceWarning)\n",
      "/usr/local/lib/python3.6/dist-packages/sklearn/neural_network/_multilayer_perceptron.py:571: ConvergenceWarning: Stochastic Optimizer: Maximum iterations (200) reached and the optimization hasn't converged yet.\n",
      "  % self.max_iter, ConvergenceWarning)\n",
      "/usr/local/lib/python3.6/dist-packages/sklearn/neural_network/_multilayer_perceptron.py:571: ConvergenceWarning: Stochastic Optimizer: Maximum iterations (200) reached and the optimization hasn't converged yet.\n",
      "  % self.max_iter, ConvergenceWarning)\n",
      "/usr/local/lib/python3.6/dist-packages/sklearn/neural_network/_multilayer_perceptron.py:571: ConvergenceWarning: Stochastic Optimizer: Maximum iterations (200) reached and the optimization hasn't converged yet.\n",
      "  % self.max_iter, ConvergenceWarning)\n",
      "/usr/local/lib/python3.6/dist-packages/sklearn/neural_network/_multilayer_perceptron.py:571: ConvergenceWarning: Stochastic Optimizer: Maximum iterations (200) reached and the optimization hasn't converged yet.\n",
      "  % self.max_iter, ConvergenceWarning)\n"
     ]
    },
    {
     "name": "stdout",
     "output_type": "stream",
     "text": [
      "Neural Net: 0.862500 (0.117925)\n"
     ]
    },
    {
     "name": "stderr",
     "output_type": "stream",
     "text": [
      "/usr/local/lib/python3.6/dist-packages/sklearn/neural_network/_multilayer_perceptron.py:571: ConvergenceWarning: Stochastic Optimizer: Maximum iterations (200) reached and the optimization hasn't converged yet.\n",
      "  % self.max_iter, ConvergenceWarning)\n",
      "/usr/local/lib/python3.6/dist-packages/sklearn/neural_network/_multilayer_perceptron.py:571: ConvergenceWarning: Stochastic Optimizer: Maximum iterations (200) reached and the optimization hasn't converged yet.\n",
      "  % self.max_iter, ConvergenceWarning)\n"
     ]
    },
    {
     "data": {
      "image/png": "[encoded data removed]",
      "text/plain": [
       "<Figure size 432x288 with 1 Axes>"
      ]
     },
     "metadata": {
      "needs_background": "light",
      "tags": []
     },
     "output_type": "display_data"
    },
    {
     "name": "stdout",
     "output_type": "stream",
     "text": [
      "Test--  Neural Net :  0.9259259259259259\n",
      "\n",
      "              precision    recall  f1-score   support\n",
      "\n",
      "           0       1.00      0.88      0.94        17\n",
      "           1       0.83      1.00      0.91        10\n",
      "\n",
      "    accuracy                           0.93        27\n",
      "   macro avg       0.92      0.94      0.92        27\n",
      "weighted avg       0.94      0.93      0.93        27\n",
      "\n"
     ]
    },
    {
     "name": "stderr",
     "output_type": "stream",
     "text": [
      "/usr/local/lib/python3.6/dist-packages/sklearn/model_selection/_split.py:296: FutureWarning: Setting a random_state has no effect since shuffle is False. This will raise an error in 0.24. You should leave random_state to its default (None), or set shuffle=True.\n",
      "  FutureWarning\n"
     ]
    },
    {
     "name": "stdout",
     "output_type": "stream",
     "text": [
      "AdaBoost: 0.912500 (0.112500)\n"
     ]
    },
    {
     "data": {
      "image/png": "[encoded data removed]",
      "text/plain": [
       "<Figure size 432x288 with 1 Axes>"
      ]
     },
     "metadata": {
      "needs_background": "light",
      "tags": []
     },
     "output_type": "display_data"
    },
    {
     "name": "stdout",
     "output_type": "stream",
     "text": [
      "Test--  AdaBoost :  0.8518518518518519\n",
      "\n",
      "              precision    recall  f1-score   support\n",
      "\n",
      "           0       1.00      0.76      0.87        17\n",
      "           1       0.71      1.00      0.83        10\n",
      "\n",
      "    accuracy                           0.85        27\n",
      "   macro avg       0.86      0.88      0.85        27\n",
      "weighted avg       0.89      0.85      0.85        27\n",
      "\n",
      "Naive Bayes: 0.837500 (0.137500)\n"
     ]
    },
    {
     "name": "stderr",
     "output_type": "stream",
     "text": [
      "/usr/local/lib/python3.6/dist-packages/sklearn/model_selection/_split.py:296: FutureWarning: Setting a random_state has no effect since shuffle is False. This will raise an error in 0.24. You should leave random_state to its default (None), or set shuffle=True.\n",
      "  FutureWarning\n"
     ]
    },
    {
     "data": {
      "image/png": "[encoded data removed]",
      "text/plain": [
       "<Figure size 432x288 with 1 Axes>"
      ]
     },
     "metadata": {
      "needs_background": "light",
      "tags": []
     },
     "output_type": "display_data"
    },
    {
     "name": "stdout",
     "output_type": "stream",
     "text": [
      "Test--  Naive Bayes :  0.9259259259259259\n",
      "\n",
      "              precision    recall  f1-score   support\n",
      "\n",
      "           0       1.00      0.88      0.94        17\n",
      "           1       0.83      1.00      0.91        10\n",
      "\n",
      "    accuracy                           0.93        27\n",
      "   macro avg       0.92      0.94      0.92        27\n",
      "weighted avg       0.94      0.93      0.93        27\n",
      "\n",
      "SVM Linear: 0.850000 (0.108972)\n"
     ]
    },
    {
     "name": "stderr",
     "output_type": "stream",
     "text": [
      "/usr/local/lib/python3.6/dist-packages/sklearn/model_selection/_split.py:296: FutureWarning: Setting a random_state has no effect since shuffle is False. This will raise an error in 0.24. You should leave random_state to its default (None), or set shuffle=True.\n",
      "  FutureWarning\n"
     ]
    },
    {
     "data": {
      "image/png": "[encoded data removed]",
      "text/plain": [
       "<Figure size 432x288 with 1 Axes>"
      ]
     },
     "metadata": {
      "needs_background": "light",
      "tags": []
     },
     "output_type": "display_data"
    },
    {
     "name": "stdout",
     "output_type": "stream",
     "text": [
      "Test--  SVM Linear :  0.9629629629629629\n",
      "\n",
      "              precision    recall  f1-score   support\n",
      "\n",
      "           0       1.00      0.94      0.97        17\n",
      "           1       0.91      1.00      0.95        10\n",
      "\n",
      "    accuracy                           0.96        27\n",
      "   macro avg       0.95      0.97      0.96        27\n",
      "weighted avg       0.97      0.96      0.96        27\n",
      "\n",
      "SVM RBF: 0.887500 (0.067315)\n"
     ]
    },
    {
     "name": "stderr",
     "output_type": "stream",
     "text": [
      "/usr/local/lib/python3.6/dist-packages/sklearn/model_selection/_split.py:296: FutureWarning: Setting a random_state has no effect since shuffle is False. This will raise an error in 0.24. You should leave random_state to its default (None), or set shuffle=True.\n",
      "  FutureWarning\n"
     ]
    },
    {
     "data": {
      "image/png": "[encoded data removed]",
      "text/plain": [
       "<Figure size 432x288 with 1 Axes>"
      ]
     },
     "metadata": {
      "needs_background": "light",
      "tags": []
     },
     "output_type": "display_data"
    },
    {
     "name": "stdout",
     "output_type": "stream",
     "text": [
      "Test--  SVM RBF :  0.9259259259259259\n",
      "\n",
      "              precision    recall  f1-score   support\n",
      "\n",
      "           0       1.00      0.88      0.94        17\n",
      "           1       0.83      1.00      0.91        10\n",
      "\n",
      "    accuracy                           0.93        27\n",
      "   macro avg       0.92      0.94      0.92        27\n",
      "weighted avg       0.94      0.93      0.93        27\n",
      "\n",
      "SVM Sigmoid: 0.900000 (0.093541)\n"
     ]
    },
    {
     "name": "stderr",
     "output_type": "stream",
     "text": [
      "/usr/local/lib/python3.6/dist-packages/sklearn/model_selection/_split.py:296: FutureWarning: Setting a random_state has no effect since shuffle is False. This will raise an error in 0.24. You should leave random_state to its default (None), or set shuffle=True.\n",
      "  FutureWarning\n"
     ]
    },
    {
     "data": {
      "image/png": "[encoded data removed]",
      "text/plain": [
       "<Figure size 432x288 with 1 Axes>"
      ]
     },
     "metadata": {
      "needs_background": "light",
      "tags": []
     },
     "output_type": "display_data"
    },
    {
     "name": "stdout",
     "output_type": "stream",
     "text": [
      "Test--  SVM Sigmoid :  0.9259259259259259\n",
      "\n",
      "              precision    recall  f1-score   support\n",
      "\n",
      "           0       1.00      0.88      0.94        17\n",
      "           1       0.83      1.00      0.91        10\n",
      "\n",
      "    accuracy                           0.93        27\n",
      "   macro avg       0.92      0.94      0.92        27\n",
      "weighted avg       0.94      0.93      0.93        27\n",
      "\n"
     ]
    }
   ],
   "source": [
    "# Now that we have our dataset, we can start building algorithms! We'll need to import each algorithm we plan on using\n",
    "# from sklearn.  We also need to import some performance metrics, such as accuracy_score and classification_report.\n",
    "\n",
    "from sklearn.neighbors import KNeighborsClassifier\n",
    "from sklearn.neural_network import MLPClassifier\n",
    "from sklearn.gaussian_process import GaussianProcessClassifier\n",
    "from sklearn.gaussian_process.kernels import RBF\n",
    "from sklearn.tree import DecisionTreeClassifier\n",
    "from sklearn.ensemble import RandomForestClassifier, AdaBoostClassifier\n",
    "from sklearn.naive_bayes import GaussianNB\n",
    "from sklearn.svm import SVC\n",
    "from sklearn.metrics import classification_report, accuracy_score\n",
    "\n",
    "# define scoring method\n",
    "scoring = 'accuracy'\n",
    "\n",
    "# Define models to train\n",
    "names = [\"Nearest Neighbors\", \"Gaussian Process\",\n",
    "         \"Decision Tree\", \"Random Forest\", \"Neural Net\", \"AdaBoost\",\n",
    "         \"Naive Bayes\", \"SVM Linear\", \"SVM RBF\", \"SVM Sigmoid\"]\n",
    "\n",
    "classifiers = [\n",
    "    KNeighborsClassifier(n_neighbors = 3),\n",
    "    GaussianProcessClassifier(1.0 * RBF(1.0)),\n",
    "    DecisionTreeClassifier(max_depth=5),\n",
    "    RandomForestClassifier(max_depth=5, n_estimators=10, max_features=1),\n",
    "    MLPClassifier(alpha=1),\n",
    "    AdaBoostClassifier(),\n",
    "    GaussianNB(),\n",
    "    SVC(kernel = 'linear'), \n",
    "    SVC(kernel = 'rbf'),\n",
    "    SVC(kernel = 'sigmoid')\n",
    "]\n",
    "\n",
    "models = zip(names, classifiers)\n",
    "\n",
    "# evaluate each model in turn\n",
    "results = []\n",
    "names = []\n",
    "\n",
    "for name, model in models:\n",
    "    kfold = model_selection.KFold(n_splits=10, random_state = seed)\n",
    "    cv_results = model_selection.cross_val_score(model, X_train, y_train, cv=kfold, scoring=scoring)\n",
    "    results.append(cv_results)\n",
    "    names.append(name)\n",
    "    msg = \"%s: %f (%f)\" % (name, cv_results.mean(), cv_results.std())\n",
    "    print(msg)\n",
    "    model.fit(X_train, y_train)\n",
    "    plot(model, X_train, y_train)\n",
    "    predictions = model.predict(X_test)\n",
    "    print('Test-- ',name,': ',accuracy_score(y_test, predictions))\n",
    "    print()\n",
    "    print(classification_report(y_test, predictions))"
   ]
  },
  {
   "cell_type": "code",
   "execution_count": 0,
   "metadata": {
    "colab": {},
    "colab_type": "code",
    "id": "Hp7NuYhak2GX"
   },
   "outputs": [],
   "source": [
    "class Plotter():\n",
    " \n",
    "  def setup(self, X, h=0.2):\n",
    "\n",
    "      self.x_min, self.x_max = X[:, 0].min() - .5, X[:, 0].max() + .5\n",
    "      self.y_min, self.y_max = X[:, 1].min() - .5, X[:, 1].max() + .5\n",
    "\n",
    "      self.xx, self.yy = np.meshgrid(np.arange(self.x_min, self.x_max, h),\n",
    "                          np.arange(self.y_min, self.y_max, h))\n",
    "\n",
    "      # just plot the dataset first\n",
    "      self.cm = plt.cm.RdBu\n",
    "      self.cm_bright = ListedColormap(['#FF0000', '#0000FF'])\n",
    "      figure = plt.figure(figsize=(27, 9))\n",
    "\n",
    "  def plot(self):\n",
    "\n",
    "    plt.tight_layout() \n",
    "    plt.show()\n",
    "\n",
    "  def plot_result(self, X_train, y_train, X_test, y_test, clf):\n",
    "      xx, yy = self.xx, self.yy\n",
    "      cm, cm_bright = self.cm, self.cm_bright\n",
    "      # Plot the decision boundary. For that, we will assign a color to each\n",
    "      # point in the mesh [x_min, x_max]x[y_min, y_max].\n",
    "      if hasattr(clf, \"decision_function\"):\n",
    "          Z = clf.decision_function(np.c_[xx.ravel(), yy.ravel()])\n",
    "      else:\n",
    "          Z = clf.predict_proba(np.c_[xx.ravel(), yy.ravel()])[:, 1]\n",
    "\n",
    "      # Put the result into a color plot\n",
    "      Z = Z.reshape(xx.shape)\n",
    "\n",
    "      ax = plt.subplot(len(datasets), len(classifiers) + 1, i)\n",
    "\n",
    "      ax.contourf(xx, yy, Z, cmap=cm, alpha=.8)\n",
    "\n",
    "      # Plot the training points\n",
    "      ax.scatter(X_train[:, 0], X_train[:, 1], c=y_train, cmap=cm_bright,\n",
    "                edgecolors='k')\n",
    "      # Plot the testing points\n",
    "      ax.scatter(X_test[:, 0], X_test[:, 1], c=y_test, cmap=cm_bright,\n",
    "                edgecolors='k', alpha=0.6)\n",
    "\n",
    "      ax.set_xlim(xx.min(), xx.max())\n",
    "      ax.set_ylim(yy.min(), yy.max())\n",
    "      ax.set_xticks(())\n",
    "      ax.set_yticks(())\n",
    "\n",
    "      score = clf.score(X_test, y_test)    \n",
    "\n",
    "      if ds_cnt == 0:\n",
    "          ax.set_title(name)\n",
    "      ax.text(xx.max() - .3, yy.min() + .3, ('%.2f' % score).lstrip('0'),\n",
    "              size=15, horizontalalignment='right')\n",
    "\n",
    "  def plot_data_set(self, X, y, X_train,y_train, ds_cnt ):\n",
    "      xx, yy = self.xx, self.yy\n",
    "\n",
    "      cm_bright = self.cm_bright\n",
    "      ax = plt.subplot(len(datasets), len(classifiers) + 1, i)\n",
    "      if ds_cnt == 0:\n",
    "          ax.set_title(\"Input data\")\n",
    "      # Plot the training points\n",
    "      ax.scatter(X_train[:, 0], X_train[:, 1], c=y_train, cmap=cm_bright,\n",
    "                edgecolors='k')\n",
    "      # Plot the testing points\n",
    "      ax.scatter(X_test[:, 0], X_test[:, 1], c=y_test, cmap=cm_bright, alpha=0.9,\n",
    "                edgecolors='k')\n",
    "      ax.set_xlim(xx.min(), xx.max())\n",
    "      ax.set_ylim(yy.min(), yy.max())\n",
    "      ax.set_xticks(())\n",
    "      ax.set_yticks(())"
   ]
  },
  {
   "cell_type": "code",
   "execution_count": 0,
   "metadata": {
    "colab": {
     "base_uri": "https://localhost:8080/",
     "height": 231
    },
    "colab_type": "code",
    "id": "nkqgYM26ZWZO",
    "outputId": "a3861a61-9c5d-4e11-e1e3-7f7c9a376078"
   },
   "outputs": [
    {
     "ename": "NameError",
     "evalue": "ignored",
     "output_type": "error",
     "traceback": [
      "\u001b[0;31m---------------------------------------------------------------------------\u001b[0m",
      "\u001b[0;31mNameError\u001b[0m                                 Traceback (most recent call last)",
      "\u001b[0;32m<ipython-input-1-3176af79ef51>\u001b[0m in \u001b[0;36m<module>\u001b[0;34m()\u001b[0m\n\u001b[1;32m     54\u001b[0m \u001b[0;31m# iterate over datasets\u001b[0m\u001b[0;34m\u001b[0m\u001b[0;34m\u001b[0m\u001b[0;34m\u001b[0m\u001b[0m\n\u001b[1;32m     55\u001b[0m \u001b[0;34m\u001b[0m\u001b[0m\n\u001b[0;32m---> 56\u001b[0;31m \u001b[0mplotter\u001b[0m \u001b[0;34m=\u001b[0m \u001b[0mPlotter\u001b[0m\u001b[0;34m(\u001b[0m\u001b[0;34m)\u001b[0m\u001b[0;34m\u001b[0m\u001b[0;34m\u001b[0m\u001b[0m\n\u001b[0m\u001b[1;32m     57\u001b[0m \u001b[0;34m\u001b[0m\u001b[0m\n\u001b[1;32m     58\u001b[0m \u001b[0;32mfor\u001b[0m \u001b[0mds_cnt\u001b[0m\u001b[0;34m,\u001b[0m \u001b[0mds\u001b[0m \u001b[0;32min\u001b[0m \u001b[0menumerate\u001b[0m\u001b[0;34m(\u001b[0m\u001b[0mdatasets\u001b[0m\u001b[0;34m)\u001b[0m\u001b[0;34m:\u001b[0m\u001b[0;34m\u001b[0m\u001b[0;34m\u001b[0m\u001b[0m\n",
      "\u001b[0;31mNameError\u001b[0m: name 'Plotter' is not defined"
     ]
    }
   ],
   "source": [
    "\n",
    "# Code source: Gaël Varoquaux\n",
    "#              Andreas Müller\n",
    "# Modified for documentation by Jaques Grobler\n",
    "# License: BSD 3 clause\n",
    "\n",
    "import numpy as np\n",
    "import matplotlib.pyplot as plt\n",
    "from matplotlib.colors import ListedColormap\n",
    "from sklearn.model_selection import train_test_split\n",
    "from sklearn.preprocessing import StandardScaler\n",
    "from sklearn.datasets import make_moons, make_circles, make_classification, make_friedman1, make_blobs\n",
    "from sklearn.neural_network import MLPClassifier\n",
    "from sklearn.neighbors import KNeighborsClassifier\n",
    "from sklearn.svm import SVC\n",
    "from sklearn.gaussian_process import GaussianProcessClassifier\n",
    "from sklearn.gaussian_process.kernels import RBF\n",
    "from sklearn.tree import DecisionTreeClassifier\n",
    "from sklearn.ensemble import RandomForestClassifier, AdaBoostClassifier\n",
    "from sklearn.naive_bayes import GaussianNB\n",
    "from sklearn.discriminant_analysis import QuadraticDiscriminantAnalysis\n",
    " \n",
    "\n",
    "h = .02  # step size in the mesh\n",
    "\n",
    "names = [\"Nearest Neighbors\", \"Linear SVM\", \"RBF SVM\",\"Sigmoid SVC\",  \"Gaussian Process\",\n",
    "         \"Decision Tree\", \"Random Forest\", \"Neural Net\", \"AdaBoost\",\n",
    "         \"Naive Bayes\", \"QDA\"]\n",
    "\n",
    "classifiers = [\n",
    "    KNeighborsClassifier(3),\n",
    "    SVC(kernel=\"linear\", C=0.025),\n",
    "    SVC(gamma=2, C=1),  \n",
    "    SVC(kernel = 'sigmoid'),\n",
    "    GaussianProcessClassifier(1.0 * RBF(1.0)),\n",
    "    DecisionTreeClassifier(max_depth=5),\n",
    "    RandomForestClassifier(max_depth=5, n_estimators=10, max_features=1),\n",
    "    MLPClassifier(alpha=1, max_iter=1000),\n",
    "    AdaBoostClassifier(),\n",
    "    GaussianNB(),\n",
    "    QuadraticDiscriminantAnalysis()]\n",
    "\n",
    "X, y = make_classification(n_features=2, n_redundant=0, n_informative=2,\n",
    "                           random_state=1, n_clusters_per_class=1)\n",
    "\n",
    "rng = np.random.RandomState(2)\n",
    "X += 2 * rng.uniform(size=X.shape)\n",
    "linearly_separable = (X, y)\n",
    "\n",
    "datasets = [ \n",
    "            make_moons(noise=0.3, random_state=0),\n",
    "            make_circles(noise=0.2, factor=0.5, random_state=1),\n",
    "            \n",
    "            linearly_separable\n",
    "            ]\n",
    "\n",
    "\n",
    "i = 1\n",
    "# iterate over datasets\n",
    "\n",
    "plotter = Plotter()\n",
    "\n",
    "for ds_cnt, ds in enumerate(datasets):\n",
    "    # preprocess dataset, split into training and test part\n",
    "    X, y = ds\n",
    "    X = StandardScaler().fit_transform(X)\n",
    "    X_train, X_test, y_train, y_test = \\\n",
    "        train_test_split(X, y, test_size=.4, random_state=42)\n",
    "\n",
    "    plotter.setup(X)\n",
    "    plotter.plot_data_set(X, y, X_train,y_train, ds_cnt)\n",
    "\n",
    "    i += 1\n",
    "\n",
    "    # iterate over classifiers\n",
    "    for name, clf in zip(names, classifiers):\n",
    "        clf.fit(X_train, y_train)\n",
    "\n",
    "        plotter.plot_result(X_train, y_train, X_test, y_test, clf)\n",
    "        i += 1\n",
    "\n",
    "plotter.plot()\n",
    "\n"
   ]
  },
  {
   "cell_type": "code",
   "execution_count": 0,
   "metadata": {
    "colab": {},
    "colab_type": "code",
    "id": "VXfb8hzETiiH"
   },
   "outputs": [],
   "source": []
  }
 ],
 "metadata": {
  "colab": {
   "collapsed_sections": [],
   "name": "Copie de Classification.ipynb",
   "provenance": [],
   "toc_visible": true
  },
  "kernelspec": {
   "display_name": "Python 2",
   "language": "python",
   "name": "python2"
  },
  "language_info": {
   "codemirror_mode": {
    "name": "ipython",
    "version": 2
   },
   "file_extension": ".py",
   "mimetype": "text/x-python",
   "name": "python",
   "nbconvert_exporter": "python",
   "pygments_lexer": "ipython2",
   "version": "2.7.17"
  }
 },
 "nbformat": 4,
 "nbformat_minor": 1
}
